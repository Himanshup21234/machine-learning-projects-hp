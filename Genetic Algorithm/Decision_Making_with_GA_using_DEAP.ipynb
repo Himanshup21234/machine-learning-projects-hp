{
 "cells": [
  {
   "cell_type": "markdown",
   "metadata": {},
   "source": [
    "<hr style=\"border-color:#ff9900\"> \n",
    "## _Practice 1 : _\n",
    "# Basic Genetic Algorithm\n",
    "<hr style=\"border-color:#ff9900\"> "
   ]
  },
  {
   "cell_type": "code",
   "execution_count": null,
   "metadata": {},
   "outputs": [],
   "source": []
  },
  {
   "cell_type": "code",
   "execution_count": 5,
   "metadata": {
    "ExecuteTime": {
     "end_time": "2020-09-07T17:47:24.209650Z",
     "start_time": "2020-09-07T17:47:24.200654Z"
    }
   },
   "outputs": [
    {
     "data": {
      "text/plain": [
       "(100, 100)"
      ]
     },
     "execution_count": 5,
     "metadata": {},
     "output_type": "execute_result"
    }
   ],
   "source": [
    "# Here are 5 numbers when added, we get a hundred.\n",
    "list1 = [100, 0, 0, 0, 0]\n",
    "list2 = [20, 21, 19, 15, 25]\n",
    "(sum(list1), sum(list2))"
   ]
  },
  {
   "cell_type": "markdown",
   "metadata": {},
   "source": [
    "- These 5 numbers in combination make a hundred in sum.\n",
    "- Let’s find the those combination of 5 numbers using GA."
   ]
  },
  {
   "cell_type": "code",
   "execution_count": null,
   "metadata": {},
   "outputs": [],
   "source": []
  },
  {
   "cell_type": "markdown",
   "metadata": {},
   "source": [
    "## Setting Things Up"
   ]
  },
  {
   "cell_type": "code",
   "execution_count": 6,
   "metadata": {
    "ExecuteTime": {
     "end_time": "2020-09-07T17:47:26.591082Z",
     "start_time": "2020-09-07T17:47:26.585077Z"
    }
   },
   "outputs": [],
   "source": [
    "import random\n",
    "import numpy as np\n",
    "from deap import algorithms, base, creator, tools"
   ]
  },
  {
   "cell_type": "markdown",
   "metadata": {},
   "source": [
    "### Creator\n",
    "- Meta-factory allowing the run-time creation of classes via both inheritance and composition.\n",
    "- Attributes, both data and functions, can be dynamically added to existing classes in order to create user-specific new types.\n",
    "- By using this, the creation of individuals and populations from any data structure ( list, set, dictionary, tree, etc… )"
   ]
  },
  {
   "cell_type": "code",
   "execution_count": 7,
   "metadata": {
    "ExecuteTime": {
     "end_time": "2020-09-07T17:47:27.640144Z",
     "start_time": "2020-09-07T17:47:27.635129Z"
    }
   },
   "outputs": [],
   "source": [
    "# Creates a new class named \"FitnessMin\" inheriting from \"base.Fitness\" with attrebute \"weights=(-1.0,)\"\n",
    "# The fitness is a measure of quality of a solution.\n",
    "creator.create(\"FitnessMin\", base.Fitness, weights=(-1.0,)) # -1 -> minimum problem\n",
    "creator.create(\"Individual\", list, fitness=creator.FitnessMin)"
   ]
  },
  {
   "cell_type": "markdown",
   "metadata": {},
   "source": [
    "### Toolbox\n",
    "- Container for the tools (operators) that the user wants to use.\n",
    "- Manually populated by the user with selected tools."
   ]
  },
  {
   "cell_type": "code",
   "execution_count": 8,
   "metadata": {
    "ExecuteTime": {
     "end_time": "2020-09-07T17:47:58.536602Z",
     "start_time": "2020-09-07T17:47:58.532622Z"
    }
   },
   "outputs": [],
   "source": [
    "toolbox = base.Toolbox()"
   ]
  },
  {
   "cell_type": "code",
   "execution_count": 9,
   "metadata": {
    "ExecuteTime": {
     "end_time": "2020-09-07T17:48:00.988429Z",
     "start_time": "2020-09-07T17:48:00.980464Z"
    }
   },
   "outputs": [
    {
     "data": {
      "text/plain": [
       "3"
      ]
     },
     "execution_count": 9,
     "metadata": {},
     "output_type": "execute_result"
    }
   ],
   "source": [
    "random.randint(0,100) # get random number between 0~100"
   ]
  },
  {
   "cell_type": "code",
   "execution_count": 10,
   "metadata": {
    "ExecuteTime": {
     "end_time": "2020-09-07T17:48:09.349312Z",
     "start_time": "2020-09-07T17:48:09.344299Z"
    }
   },
   "outputs": [],
   "source": [
    "# Attribute generator \n",
    "toolbox.register(\"attr_bool\", random.randint, 0, 100)"
   ]
  },
  {
   "cell_type": "code",
   "execution_count": 11,
   "metadata": {
    "ExecuteTime": {
     "end_time": "2020-09-07T17:48:12.632597Z",
     "start_time": "2020-09-07T17:48:12.624566Z"
    }
   },
   "outputs": [
    {
     "data": {
      "text/plain": [
       "11"
      ]
     },
     "execution_count": 11,
     "metadata": {},
     "output_type": "execute_result"
    }
   ],
   "source": [
    "toolbox.attr_bool() "
   ]
  },
  {
   "cell_type": "code",
   "execution_count": 12,
   "metadata": {
    "ExecuteTime": {
     "end_time": "2020-09-07T17:49:15.316628Z",
     "start_time": "2020-09-07T17:49:15.311626Z"
    }
   },
   "outputs": [],
   "source": [
    "# Structure initializers\n",
    "toolbox.register(\"individual\", tools.initRepeat, creator.Individual, toolbox.attr_bool, 5)\n",
    "toolbox.register(\"population\", tools.initRepeat, list, toolbox.individual)"
   ]
  },
  {
   "cell_type": "code",
   "execution_count": 13,
   "metadata": {
    "ExecuteTime": {
     "end_time": "2020-09-07T17:49:16.803322Z",
     "start_time": "2020-09-07T17:49:16.795362Z"
    }
   },
   "outputs": [
    {
     "data": {
      "text/plain": [
       "[80, 67, 35, 22, 32]"
      ]
     },
     "execution_count": 13,
     "metadata": {},
     "output_type": "execute_result"
    }
   ],
   "source": [
    "toolbox.individual()"
   ]
  },
  {
   "cell_type": "code",
   "execution_count": 14,
   "metadata": {
    "ExecuteTime": {
     "end_time": "2020-09-07T17:49:29.460583Z",
     "start_time": "2020-09-07T17:49:29.450576Z"
    }
   },
   "outputs": [
    {
     "data": {
      "text/plain": [
       "[[89, 8, 11, 78, 39],\n",
       " [16, 43, 68, 20, 9],\n",
       " [59, 26, 44, 99, 44],\n",
       " [51, 27, 3, 6, 77],\n",
       " [62, 48, 42, 100, 98],\n",
       " [43, 8, 75, 93, 17],\n",
       " [0, 3, 36, 92, 18],\n",
       " [70, 74, 66, 61, 68],\n",
       " [96, 21, 18, 13, 95],\n",
       " [25, 70, 60, 37, 18]]"
      ]
     },
     "execution_count": 14,
     "metadata": {},
     "output_type": "execute_result"
    }
   ],
   "source": [
    "toolbox.population(n=10)"
   ]
  },
  {
   "cell_type": "markdown",
   "metadata": {},
   "source": [
    "## The Evaluation Function\n",
    "- objective function : the function built for our problem"
   ]
  },
  {
   "cell_type": "code",
   "execution_count": 15,
   "metadata": {
    "ExecuteTime": {
     "end_time": "2020-09-07T17:49:48.147445Z",
     "start_time": "2020-09-07T17:49:48.142452Z"
    }
   },
   "outputs": [],
   "source": [
    "def sum_error(individual):\n",
    "    return abs(100-sum(individual)),"
   ]
  },
  {
   "cell_type": "code",
   "execution_count": null,
   "metadata": {},
   "outputs": [],
   "source": []
  },
  {
   "cell_type": "code",
   "execution_count": 16,
   "metadata": {
    "ExecuteTime": {
     "end_time": "2020-09-07T17:50:02.156683Z",
     "start_time": "2020-09-07T17:50:02.148685Z"
    }
   },
   "outputs": [
    {
     "data": {
      "text/plain": [
       "[58, 19, 33, 41, 28]"
      ]
     },
     "execution_count": 16,
     "metadata": {},
     "output_type": "execute_result"
    }
   ],
   "source": [
    "# smaple individual\n",
    "ind = toolbox.individual()\n",
    "ind"
   ]
  },
  {
   "cell_type": "code",
   "execution_count": 17,
   "metadata": {
    "ExecuteTime": {
     "end_time": "2020-09-07T17:50:32.703596Z",
     "start_time": "2020-09-07T17:50:32.695596Z"
    }
   },
   "outputs": [
    {
     "data": {
      "text/plain": [
       "(79,)"
      ]
     },
     "execution_count": 17,
     "metadata": {},
     "output_type": "execute_result"
    }
   ],
   "source": [
    "sum_error(ind)"
   ]
  },
  {
   "cell_type": "markdown",
   "metadata": {},
   "source": [
    "## The Genetic Operators\n",
    "- Operators are just like initializers, except that some are already implemented in the [tools](http://deap.readthedocs.io/en/master/api/tools.html#module-deap.tools) module. \n",
    "- __Once you’ve chosen the perfect ones, simply register them in the toolbox.__"
   ]
  },
  {
   "cell_type": "code",
   "execution_count": 18,
   "metadata": {
    "ExecuteTime": {
     "end_time": "2020-09-07T17:55:20.643893Z",
     "start_time": "2020-09-07T17:55:20.638907Z"
    }
   },
   "outputs": [],
   "source": [
    "toolbox.register(\"evaluate\", sum_error)"
   ]
  },
  {
   "cell_type": "code",
   "execution_count": 19,
   "metadata": {
    "ExecuteTime": {
     "end_time": "2020-09-07T17:55:36.431010Z",
     "start_time": "2020-09-07T17:55:36.425048Z"
    }
   },
   "outputs": [],
   "source": [
    "toolbox.register(\"mate\", tools.cxTwoPoint)\n",
    "toolbox.register(\"mutate\", tools.mutUniformInt, low=0, up=100, indpb=0.2) # Independent probability  : for each attribute to be mutated.# low~up rondom int\n",
    "toolbox.register(\"select\", tools.selTournament, tournsize=3)"
   ]
  },
  {
   "cell_type": "code",
   "execution_count": null,
   "metadata": {
    "collapsed": true
   },
   "outputs": [],
   "source": []
  },
  {
   "cell_type": "code",
   "execution_count": null,
   "metadata": {
    "collapsed": true
   },
   "outputs": [],
   "source": []
  },
  {
   "cell_type": "markdown",
   "metadata": {},
   "source": [
    "## Evolving the Population"
   ]
  },
  {
   "cell_type": "markdown",
   "metadata": {},
   "source": [
    "### Creating the Population"
   ]
  },
  {
   "cell_type": "code",
   "execution_count": 20,
   "metadata": {
    "ExecuteTime": {
     "end_time": "2020-09-07T17:55:51.473258Z",
     "start_time": "2020-09-07T17:55:51.451219Z"
    },
    "scrolled": true
   },
   "outputs": [
    {
     "data": {
      "text/plain": [
       "[[38, 62, 90, 38, 34],\n",
       " [4, 85, 12, 65, 62],\n",
       " [38, 88, 81, 62, 59],\n",
       " [34, 30, 21, 82, 36],\n",
       " [92, 33, 100, 71, 66],\n",
       " [26, 42, 3, 12, 22],\n",
       " [26, 75, 87, 87, 16],\n",
       " [27, 20, 12, 47, 93],\n",
       " [51, 82, 50, 80, 61],\n",
       " [5, 98, 47, 27, 21],\n",
       " [59, 33, 22, 5, 2],\n",
       " [66, 87, 43, 90, 65],\n",
       " [46, 57, 33, 96, 29],\n",
       " [64, 88, 72, 59, 11],\n",
       " [1, 47, 94, 47, 87],\n",
       " [82, 27, 37, 15, 29],\n",
       " [100, 72, 87, 98, 30],\n",
       " [59, 82, 70, 64, 100],\n",
       " [69, 75, 40, 91, 19],\n",
       " [35, 100, 70, 48, 48],\n",
       " [72, 59, 74, 62, 88],\n",
       " [10, 4, 55, 27, 2],\n",
       " [78, 98, 24, 64, 51],\n",
       " [12, 42, 76, 12, 77],\n",
       " [40, 69, 48, 69, 49],\n",
       " [99, 55, 6, 64, 4],\n",
       " [28, 5, 60, 44, 51],\n",
       " [77, 82, 30, 12, 93],\n",
       " [100, 21, 96, 61, 35],\n",
       " [70, 18, 3, 63, 51],\n",
       " [70, 70, 95, 3, 94],\n",
       " [41, 48, 61, 6, 61],\n",
       " [39, 89, 42, 80, 35],\n",
       " [70, 59, 21, 32, 97],\n",
       " [58, 88, 56, 42, 29],\n",
       " [51, 13, 18, 60, 28],\n",
       " [18, 45, 46, 60, 97],\n",
       " [93, 17, 47, 69, 67],\n",
       " [34, 81, 61, 24, 13],\n",
       " [17, 85, 3, 35, 16],\n",
       " [70, 40, 100, 27, 91],\n",
       " [22, 98, 89, 93, 89],\n",
       " [72, 4, 20, 86, 67],\n",
       " [15, 94, 97, 76, 18],\n",
       " [59, 47, 91, 69, 48],\n",
       " [89, 100, 81, 28, 88],\n",
       " [56, 7, 31, 61, 4],\n",
       " [94, 0, 54, 13, 41],\n",
       " [50, 77, 35, 3, 70],\n",
       " [11, 12, 78, 13, 9],\n",
       " [26, 41, 66, 9, 16],\n",
       " [34, 88, 38, 29, 4],\n",
       " [8, 43, 16, 17, 82],\n",
       " [0, 71, 6, 86, 96],\n",
       " [56, 17, 37, 71, 47],\n",
       " [27, 5, 76, 95, 47],\n",
       " [7, 27, 2, 72, 77],\n",
       " [8, 80, 63, 97, 2],\n",
       " [89, 54, 24, 2, 79],\n",
       " [51, 47, 66, 68, 35],\n",
       " [2, 83, 26, 31, 37],\n",
       " [40, 4, 86, 4, 42],\n",
       " [8, 66, 87, 36, 69],\n",
       " [19, 62, 99, 35, 44],\n",
       " [60, 61, 69, 54, 52],\n",
       " [31, 67, 3, 51, 2],\n",
       " [75, 32, 93, 47, 5],\n",
       " [54, 14, 37, 32, 67],\n",
       " [64, 10, 78, 46, 89],\n",
       " [33, 73, 37, 35, 40],\n",
       " [96, 36, 70, 28, 11],\n",
       " [85, 65, 80, 10, 61],\n",
       " [50, 29, 28, 15, 21],\n",
       " [4, 53, 79, 84, 83],\n",
       " [9, 83, 3, 23, 51],\n",
       " [11, 0, 8, 35, 93],\n",
       " [82, 33, 90, 9, 12],\n",
       " [32, 68, 90, 73, 35],\n",
       " [83, 25, 76, 49, 24],\n",
       " [55, 84, 99, 49, 33],\n",
       " [87, 5, 30, 100, 15],\n",
       " [89, 62, 58, 98, 14],\n",
       " [68, 90, 11, 39, 35],\n",
       " [39, 51, 4, 83, 94],\n",
       " [8, 12, 1, 99, 60],\n",
       " [99, 54, 24, 48, 22],\n",
       " [82, 35, 99, 79, 73],\n",
       " [48, 27, 88, 63, 9],\n",
       " [2, 49, 62, 95, 40],\n",
       " [7, 91, 83, 31, 84],\n",
       " [70, 84, 5, 52, 79],\n",
       " [76, 51, 71, 1, 87],\n",
       " [15, 62, 70, 56, 3],\n",
       " [53, 40, 29, 52, 85],\n",
       " [22, 62, 94, 41, 21],\n",
       " [18, 64, 97, 51, 66],\n",
       " [2, 65, 69, 78, 66],\n",
       " [17, 91, 73, 95, 53],\n",
       " [39, 92, 7, 74, 55],\n",
       " [67, 85, 86, 54, 78]]"
      ]
     },
     "execution_count": 20,
     "metadata": {},
     "output_type": "execute_result"
    }
   ],
   "source": [
    "pop = toolbox.population(n=100)\n",
    "pop"
   ]
  },
  {
   "cell_type": "markdown",
   "metadata": {},
   "source": [
    "### The Appeal of Evolution"
   ]
  },
  {
   "cell_type": "code",
   "execution_count": 21,
   "metadata": {
    "ExecuteTime": {
     "end_time": "2020-09-07T17:56:14.965581Z",
     "start_time": "2020-09-07T17:56:14.961618Z"
    }
   },
   "outputs": [],
   "source": [
    "# Use of a HallOfFame in order to keep track of the best individual to appear in the evolution \n",
    "# (it keeps it even in the case it extinguishes)\n",
    "hof = tools.HallOfFame(1)"
   ]
  },
  {
   "cell_type": "code",
   "execution_count": 23,
   "metadata": {
    "ExecuteTime": {
     "end_time": "2020-09-07T19:39:33.330255Z",
     "start_time": "2020-09-07T19:39:33.305249Z"
    }
   },
   "outputs": [],
   "source": [
    "stats = tools.Statistics(lambda ind: ind.fitness.values)\n",
    "stats.register(\"avg\", np.mean)\n",
    "stats.register(\"std\", np.std)\n",
    "stats.register(\"min\", np.min)\n",
    "stats.register(\"max\", np.max)"
   ]
  },
  {
   "cell_type": "code",
   "execution_count": 24,
   "metadata": {
    "ExecuteTime": {
     "end_time": "2020-09-07T19:43:16.579953Z",
     "start_time": "2020-09-07T19:43:16.271947Z"
    }
   },
   "outputs": [
    {
     "name": "stdout",
     "output_type": "stream",
     "text": [
      "gen\tnevals\tavg   \tstd    \tmin\tmax\n",
      "0  \t100   \t153.84\t65.7285\t2  \t291\n",
      "1  \t55    \t94.36 \t52.4337\t2  \t205\n",
      "2  \t65    \t60.8  \t37.5896\t1  \t134\n",
      "3  \t64    \t41.37 \t37.1598\t0  \t198\n",
      "4  \t57    \t20.35 \t19.8899\t0  \t125\n",
      "5  \t51    \t12.74 \t19.3983\t0  \t134\n",
      "6  \t55    \t11.46 \t19.5056\t0  \t125\n",
      "7  \t68    \t12.67 \t22.396 \t0  \t147\n",
      "8  \t59    \t11.2  \t21.0893\t0  \t113\n",
      "9  \t65    \t8.06  \t25.6772\t0  \t166\n",
      "10 \t72    \t5.08  \t17.6871\t0  \t138\n",
      "11 \t57    \t5.33  \t18.7654\t0  \t130\n",
      "12 \t55    \t5.6   \t21.2344\t0  \t148\n",
      "13 \t57    \t7.24  \t21.4598\t0  \t119\n",
      "14 \t52    \t7.56  \t21.5775\t0  \t151\n",
      "15 \t54    \t9.44  \t27.4548\t0  \t120\n",
      "16 \t53    \t7.43  \t27.5479\t0  \t184\n",
      "17 \t66    \t5.63  \t17.9235\t0  \t100\n",
      "18 \t61    \t5.68  \t18.8233\t0  \t112\n",
      "19 \t53    \t4.14  \t17.2203\t0  \t124\n",
      "20 \t55    \t6.14  \t21.2979\t0  \t130\n",
      "21 \t57    \t8.95  \t29.2149\t0  \t191\n",
      "22 \t58    \t7.67  \t27.7258\t0  \t226\n",
      "23 \t58    \t3.52  \t13.4978\t0  \t73 \n",
      "24 \t66    \t9.96  \t25.0036\t0  \t156\n",
      "25 \t70    \t8.85  \t22.389 \t0  \t133\n",
      "26 \t57    \t5.31  \t17.3647\t0  \t90 \n",
      "27 \t71    \t5.25  \t18.4122\t0  \t113\n",
      "28 \t58    \t7.2   \t20.2736\t0  \t108\n",
      "29 \t63    \t5.47  \t26.0052\t0  \t225\n",
      "30 \t61    \t4.96  \t16.1294\t0  \t106\n",
      "31 \t69    \t7.52  \t23.7396\t0  \t143\n",
      "32 \t59    \t6.7   \t19.8839\t0  \t125\n",
      "33 \t56    \t6.8   \t25.8449\t0  \t160\n",
      "34 \t52    \t5.21  \t21.4878\t0  \t126\n",
      "35 \t72    \t5.6   \t20.9724\t0  \t161\n",
      "36 \t57    \t6.62  \t17.9838\t0  \t80 \n",
      "37 \t48    \t7.34  \t21.0885\t0  \t108\n",
      "38 \t68    \t5.38  \t19.5048\t0  \t126\n",
      "39 \t49    \t7.63  \t22.2444\t0  \t131\n",
      "40 \t64    \t9.44  \t28.019 \t0  \t138\n"
     ]
    }
   ],
   "source": [
    "# algorithms : contains useful implements some basic GA\n",
    "pop, log = algorithms.eaSimple(pop, toolbox, cxpb=0.5, mutpb=0.2, ngen=40, stats=stats, halloffame=hof, verbose=True)"
   ]
  },
  {
   "cell_type": "code",
   "execution_count": 25,
   "metadata": {
    "ExecuteTime": {
     "end_time": "2020-09-07T19:43:40.078901Z",
     "start_time": "2020-09-07T19:43:40.064900Z"
    },
    "scrolled": true
   },
   "outputs": [
    {
     "data": {
      "text/plain": [
       "[100,\n",
       " 100,\n",
       " 100,\n",
       " 100,\n",
       " 100,\n",
       " 137,\n",
       " 100,\n",
       " 236,\n",
       " 100,\n",
       " 100,\n",
       " 100,\n",
       " 100,\n",
       " 100,\n",
       " 100,\n",
       " 100,\n",
       " 100,\n",
       " 100,\n",
       " 100,\n",
       " 100,\n",
       " 100,\n",
       " 100,\n",
       " 100,\n",
       " 100,\n",
       " 166,\n",
       " 100,\n",
       " 100,\n",
       " 100,\n",
       " 100,\n",
       " 100,\n",
       " 100,\n",
       " 100,\n",
       " 180,\n",
       " 100,\n",
       " 100,\n",
       " 238,\n",
       " 100,\n",
       " 111,\n",
       " 100,\n",
       " 218,\n",
       " 208,\n",
       " 100,\n",
       " 100,\n",
       " 100,\n",
       " 158,\n",
       " 131,\n",
       " 100,\n",
       " 100,\n",
       " 100,\n",
       " 100,\n",
       " 100,\n",
       " 100,\n",
       " 100,\n",
       " 100,\n",
       " 100,\n",
       " 100,\n",
       " 100,\n",
       " 100,\n",
       " 100,\n",
       " 100,\n",
       " 100,\n",
       " 100,\n",
       " 100,\n",
       " 100,\n",
       " 100,\n",
       " 100,\n",
       " 100,\n",
       " 100,\n",
       " 109,\n",
       " 173,\n",
       " 138,\n",
       " 100,\n",
       " 100,\n",
       " 100,\n",
       " 100,\n",
       " 100,\n",
       " 100,\n",
       " 100,\n",
       " 100,\n",
       " 100,\n",
       " 100,\n",
       " 100,\n",
       " 100,\n",
       " 100,\n",
       " 100,\n",
       " 100,\n",
       " 100,\n",
       " 100,\n",
       " 100,\n",
       " 100,\n",
       " 100,\n",
       " 100,\n",
       " 100,\n",
       " 100,\n",
       " 100,\n",
       " 124,\n",
       " 100,\n",
       " 100,\n",
       " 83,\n",
       " 100,\n",
       " 100]"
      ]
     },
     "execution_count": 25,
     "metadata": {},
     "output_type": "execute_result"
    }
   ],
   "source": [
    "[sum(ind) for ind in pop]"
   ]
  },
  {
   "cell_type": "code",
   "execution_count": 26,
   "metadata": {
    "ExecuteTime": {
     "end_time": "2020-09-07T19:44:34.640233Z",
     "start_time": "2020-09-07T19:44:34.632224Z"
    },
    "scrolled": true
   },
   "outputs": [
    {
     "data": {
      "text/plain": [
       "[[18, 33, 12, 31, 6],\n",
       " [18, 33, 12, 31, 6],\n",
       " [18, 33, 12, 31, 6],\n",
       " [18, 33, 12, 31, 6],\n",
       " [18, 33, 12, 31, 6]]"
      ]
     },
     "execution_count": 26,
     "metadata": {},
     "output_type": "execute_result"
    }
   ],
   "source": [
    "tools.selBest(pop, k=5)"
   ]
  },
  {
   "cell_type": "code",
   "execution_count": null,
   "metadata": {
    "collapsed": true
   },
   "outputs": [],
   "source": []
  },
  {
   "cell_type": "code",
   "execution_count": null,
   "metadata": {
    "collapsed": true
   },
   "outputs": [],
   "source": []
  },
  {
   "cell_type": "code",
   "execution_count": null,
   "metadata": {
    "collapsed": true
   },
   "outputs": [],
   "source": []
  },
  {
   "cell_type": "markdown",
   "metadata": {},
   "source": [
    "<hr style=\"border-color:#ff9900\"> \n",
    "## _Practice 2 : _\n",
    "# Find the Best Tour Route using NSGA-ii\n",
    "<hr style=\"border-color:#ff9900\"> "
   ]
  },
  {
   "cell_type": "markdown",
   "metadata": {},
   "source": [
    "# Preparing Data for GA"
   ]
  },
  {
   "cell_type": "markdown",
   "metadata": {},
   "source": [
    "- Data from [Seoul data portal](http://data.seoul.go.kr/openinf/sheetview.jsp?infId=OA-12929&tMenu=11)"
   ]
  },
  {
   "cell_type": "markdown",
   "metadata": {},
   "source": [
    "## Load Data"
   ]
  },
  {
   "cell_type": "code",
   "execution_count": 29,
   "metadata": {
    "ExecuteTime": {
     "end_time": "2020-09-07T19:46:07.805764Z",
     "start_time": "2020-09-07T19:46:05.544744Z"
    }
   },
   "outputs": [],
   "source": [
    "import pandas as pd\n",
    "import numpy as np\n",
    "\n",
    "# 거리계산\n",
    "from math import radians, cos, sin, asin, sqrt \n",
    "\n",
    "# Geo data viz\n",
    "import folium"
   ]
  },
  {
   "cell_type": "code",
   "execution_count": 30,
   "metadata": {
    "ExecuteTime": {
     "end_time": "2020-09-07T19:46:09.351555Z",
     "start_time": "2020-09-07T19:46:09.327548Z"
    }
   },
   "outputs": [],
   "source": [
    "df_spot = pd.read_csv(\"seoul_street.csv\")"
   ]
  },
  {
   "cell_type": "code",
   "execution_count": 31,
   "metadata": {
    "ExecuteTime": {
     "end_time": "2020-09-07T19:46:11.471803Z",
     "start_time": "2020-09-07T19:46:11.426803Z"
    },
    "scrolled": true
   },
   "outputs": [
    {
     "data": {
      "text/html": [
       "<div>\n",
       "<style scoped>\n",
       "    .dataframe tbody tr th:only-of-type {\n",
       "        vertical-align: middle;\n",
       "    }\n",
       "\n",
       "    .dataframe tbody tr th {\n",
       "        vertical-align: top;\n",
       "    }\n",
       "\n",
       "    .dataframe thead th {\n",
       "        text-align: right;\n",
       "    }\n",
       "</style>\n",
       "<table border=\"1\" class=\"dataframe\">\n",
       "  <thead>\n",
       "    <tr style=\"text-align: right;\">\n",
       "      <th></th>\n",
       "      <th>street_ko</th>\n",
       "      <th>street_en</th>\n",
       "      <th>address</th>\n",
       "      <th>dong_ko</th>\n",
       "      <th>dong_en</th>\n",
       "      <th>lng</th>\n",
       "      <th>lat</th>\n",
       "      <th>score</th>\n",
       "    </tr>\n",
       "  </thead>\n",
       "  <tbody>\n",
       "    <tr>\n",
       "      <th>0</th>\n",
       "      <td>남대문거리</td>\n",
       "      <td>fishing-tackle street</td>\n",
       "      <td>서울시 중구 회현동 일대</td>\n",
       "      <td>회현동</td>\n",
       "      <td>Hoehyeon-dong</td>\n",
       "      <td>126.977432</td>\n",
       "      <td>37.558050</td>\n",
       "      <td>80</td>\n",
       "    </tr>\n",
       "    <tr>\n",
       "      <th>1</th>\n",
       "      <td>왕십리곱창골목</td>\n",
       "      <td>Wangsimni Gopchang Alley</td>\n",
       "      <td>서울시 중구 황학동 일대</td>\n",
       "      <td>황학동</td>\n",
       "      <td>Hwanghak-dong</td>\n",
       "      <td>127.020434</td>\n",
       "      <td>37.568610</td>\n",
       "      <td>68</td>\n",
       "    </tr>\n",
       "    <tr>\n",
       "      <th>2</th>\n",
       "      <td>남산공원북측순환도로</td>\n",
       "      <td>The north side of Ring-Road</td>\n",
       "      <td>서울시 중구 필동 일대</td>\n",
       "      <td>필동</td>\n",
       "      <td>Gwanghui-dong</td>\n",
       "      <td>126.995925</td>\n",
       "      <td>37.561350</td>\n",
       "      <td>55</td>\n",
       "    </tr>\n",
       "    <tr>\n",
       "      <th>3</th>\n",
       "      <td>장충단길</td>\n",
       "      <td>Jangchungdan-gil</td>\n",
       "      <td>서울시 중구 장충동 일대</td>\n",
       "      <td>장충동</td>\n",
       "      <td>Pil-dong</td>\n",
       "      <td>127.000575</td>\n",
       "      <td>37.561386</td>\n",
       "      <td>87</td>\n",
       "    </tr>\n",
       "    <tr>\n",
       "      <th>4</th>\n",
       "      <td>초동길</td>\n",
       "      <td>Chodong-gil</td>\n",
       "      <td>서울시 중구 을지로동 일대</td>\n",
       "      <td>을지로동</td>\n",
       "      <td>Euljiro-dong</td>\n",
       "      <td>126.997646</td>\n",
       "      <td>37.566410</td>\n",
       "      <td>4</td>\n",
       "    </tr>\n",
       "    <tr>\n",
       "      <th>...</th>\n",
       "      <td>...</td>\n",
       "      <td>...</td>\n",
       "      <td>...</td>\n",
       "      <td>...</td>\n",
       "      <td>...</td>\n",
       "      <td>...</td>\n",
       "      <td>...</td>\n",
       "      <td>...</td>\n",
       "    </tr>\n",
       "    <tr>\n",
       "      <th>70</th>\n",
       "      <td>병천토속순대</td>\n",
       "      <td>Byeongcheon folk sundae</td>\n",
       "      <td>서울시 강동구 길동 일대</td>\n",
       "      <td>길동</td>\n",
       "      <td>Gil-dong</td>\n",
       "      <td>127.147047</td>\n",
       "      <td>37.538560</td>\n",
       "      <td>66</td>\n",
       "    </tr>\n",
       "    <tr>\n",
       "      <th>71</th>\n",
       "      <td>청담동명품거리</td>\n",
       "      <td>Chengdam-dong luxury street</td>\n",
       "      <td>서울시 강남구 청담동 일대</td>\n",
       "      <td>청담동</td>\n",
       "      <td>Cheongdam-dong</td>\n",
       "      <td>127.052378</td>\n",
       "      <td>37.525406</td>\n",
       "      <td>76</td>\n",
       "    </tr>\n",
       "    <tr>\n",
       "      <th>72</th>\n",
       "      <td>테헤란로</td>\n",
       "      <td>Teheran-ro</td>\n",
       "      <td>서울시 강남구 역삼2동 일대</td>\n",
       "      <td>역삼2동</td>\n",
       "      <td>Yeoksam2-dong</td>\n",
       "      <td>127.038889</td>\n",
       "      <td>37.499866</td>\n",
       "      <td>43</td>\n",
       "    </tr>\n",
       "    <tr>\n",
       "      <th>73</th>\n",
       "      <td>가로수길</td>\n",
       "      <td>Garosu-gild Road</td>\n",
       "      <td>서울시 강남구 신사동 일대</td>\n",
       "      <td>신사동</td>\n",
       "      <td>Apgujeong-dong</td>\n",
       "      <td>127.029232</td>\n",
       "      <td>37.523825</td>\n",
       "      <td>98</td>\n",
       "    </tr>\n",
       "    <tr>\n",
       "      <th>74</th>\n",
       "      <td>논현동포차골목</td>\n",
       "      <td>Nonhyeondong cart bar Alley</td>\n",
       "      <td>서울시 강남구 논현1동 일대</td>\n",
       "      <td>논현1동</td>\n",
       "      <td>Nonhyeon2-dong</td>\n",
       "      <td>127.031196</td>\n",
       "      <td>37.513636</td>\n",
       "      <td>88</td>\n",
       "    </tr>\n",
       "  </tbody>\n",
       "</table>\n",
       "<p>75 rows × 8 columns</p>\n",
       "</div>"
      ],
      "text/plain": [
       "     street_ko                    street_en          address dong_ko  \\\n",
       "0        남대문거리        fishing-tackle street    서울시 중구 회현동 일대     회현동   \n",
       "1      왕십리곱창골목     Wangsimni Gopchang Alley    서울시 중구 황학동 일대     황학동   \n",
       "2   남산공원북측순환도로  The north side of Ring-Road     서울시 중구 필동 일대      필동   \n",
       "3         장충단길             Jangchungdan-gil    서울시 중구 장충동 일대     장충동   \n",
       "4          초동길                  Chodong-gil   서울시 중구 을지로동 일대    을지로동   \n",
       "..         ...                          ...              ...     ...   \n",
       "70      병천토속순대      Byeongcheon folk sundae    서울시 강동구 길동 일대      길동   \n",
       "71     청담동명품거리  Chengdam-dong luxury street   서울시 강남구 청담동 일대     청담동   \n",
       "72        테헤란로                   Teheran-ro  서울시 강남구 역삼2동 일대    역삼2동   \n",
       "73        가로수길             Garosu-gild Road   서울시 강남구 신사동 일대     신사동   \n",
       "74     논현동포차골목  Nonhyeondong cart bar Alley  서울시 강남구 논현1동 일대    논현1동   \n",
       "\n",
       "           dong_en         lng        lat  score  \n",
       "0    Hoehyeon-dong  126.977432  37.558050     80  \n",
       "1    Hwanghak-dong  127.020434  37.568610     68  \n",
       "2    Gwanghui-dong  126.995925  37.561350     55  \n",
       "3         Pil-dong  127.000575  37.561386     87  \n",
       "4     Euljiro-dong  126.997646  37.566410      4  \n",
       "..             ...         ...        ...    ...  \n",
       "70        Gil-dong  127.147047  37.538560     66  \n",
       "71  Cheongdam-dong  127.052378  37.525406     76  \n",
       "72   Yeoksam2-dong  127.038889  37.499866     43  \n",
       "73  Apgujeong-dong  127.029232  37.523825     98  \n",
       "74  Nonhyeon2-dong  127.031196  37.513636     88  \n",
       "\n",
       "[75 rows x 8 columns]"
      ]
     },
     "execution_count": 31,
     "metadata": {},
     "output_type": "execute_result"
    }
   ],
   "source": [
    "df_spot"
   ]
  },
  {
   "cell_type": "code",
   "execution_count": null,
   "metadata": {
    "collapsed": true
   },
   "outputs": [],
   "source": []
  },
  {
   "cell_type": "markdown",
   "metadata": {},
   "source": [
    "## Viz Data"
   ]
  },
  {
   "cell_type": "code",
   "execution_count": 32,
   "metadata": {
    "ExecuteTime": {
     "end_time": "2020-09-07T19:46:38.988470Z",
     "start_time": "2020-09-07T19:46:38.762437Z"
    }
   },
   "outputs": [
    {
     "data": {
      "text/html": [
       "<div style=\"width:100%;\"><div style=\"position:relative;width:100%;height:0;padding-bottom:60%;\"><span style=\"color:#565656\">Make this Notebook Trusted to load map: File -> Trust Notebook</span><iframe src=\"about:blank\" style=\"position:absolute;width:100%;height:100%;left:0;top:0;border:none !important;\" data-html=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 onload=\"this.contentDocument.open();this.contentDocument.write(atob(this.getAttribute('data-html')));this.contentDocument.close();\" allowfullscreen webkitallowfullscreen mozallowfullscreen></iframe></div></div>"
      ],
      "text/plain": [
       "<folium.folium.Map at 0x19713deac88>"
      ]
     },
     "execution_count": 32,
     "metadata": {},
     "output_type": "execute_result"
    }
   ],
   "source": [
    "m = folium.Map(location=[np.mean(df_spot.lat), np.mean(df_spot.lng)], zoom_start=11, tiles='Stamen Toner')\n",
    "for index, row in df_spot.iterrows():\n",
    "    popup_txt = \"%s // Score : %s \" % (row.street_en, row.score)\n",
    "    folium.Marker([row.lat, row.lng], popup=popup_txt).add_to(m)\n",
    "m"
   ]
  },
  {
   "cell_type": "code",
   "execution_count": null,
   "metadata": {
    "collapsed": true
   },
   "outputs": [],
   "source": []
  },
  {
   "cell_type": "code",
   "execution_count": null,
   "metadata": {
    "collapsed": true
   },
   "outputs": [],
   "source": []
  },
  {
   "cell_type": "code",
   "execution_count": null,
   "metadata": {},
   "outputs": [],
   "source": []
  },
  {
   "cell_type": "code",
   "execution_count": null,
   "metadata": {
    "collapsed": true
   },
   "outputs": [],
   "source": []
  },
  {
   "cell_type": "code",
   "execution_count": null,
   "metadata": {
    "collapsed": true
   },
   "outputs": [],
   "source": []
  },
  {
   "cell_type": "markdown",
   "metadata": {},
   "source": [
    "# Applying Genetic Algorithm"
   ]
  },
  {
   "cell_type": "markdown",
   "metadata": {},
   "source": [
    "## Setting Things Up"
   ]
  },
  {
   "cell_type": "code",
   "execution_count": 33,
   "metadata": {
    "ExecuteTime": {
     "end_time": "2020-09-07T19:49:57.828121Z",
     "start_time": "2020-09-07T19:49:57.821106Z"
    }
   },
   "outputs": [],
   "source": [
    "import random\n",
    "import numpy as np\n",
    "from deap import algorithms, base, creator, tools"
   ]
  },
  {
   "cell_type": "markdown",
   "metadata": {},
   "source": [
    "### Creator"
   ]
  },
  {
   "cell_type": "code",
   "execution_count": 34,
   "metadata": {
    "ExecuteTime": {
     "end_time": "2020-09-07T19:50:45.283760Z",
     "start_time": "2020-09-07T19:50:45.276765Z"
    }
   },
   "outputs": [
    {
     "name": "stderr",
     "output_type": "stream",
     "text": [
      "C:\\Users\\AW639XJ\\.conda\\envs\\ey-hindalco-env\\lib\\site-packages\\deap\\creator.py:141: RuntimeWarning: A class named 'Individual' has already been created and it will be overwritten. Consider deleting previous creation of that class or rename it.\n",
      "  RuntimeWarning)\n"
     ]
    }
   ],
   "source": [
    "creator.create(\"FitnessMulti\", base.Fitness, weights=(-1.0,1.0))\n",
    "creator.create(\"Individual\", list, fitness=creator.FitnessMulti)"
   ]
  },
  {
   "cell_type": "markdown",
   "metadata": {},
   "source": [
    "### Toolbox"
   ]
  },
  {
   "cell_type": "code",
   "execution_count": 35,
   "metadata": {
    "ExecuteTime": {
     "end_time": "2020-09-07T19:50:55.331946Z",
     "start_time": "2020-09-07T19:50:55.326941Z"
    }
   },
   "outputs": [],
   "source": [
    "toolbox = base.Toolbox()"
   ]
  },
  {
   "cell_type": "code",
   "execution_count": 36,
   "metadata": {
    "ExecuteTime": {
     "end_time": "2020-09-07T19:51:07.420204Z",
     "start_time": "2020-09-07T19:51:07.414205Z"
    }
   },
   "outputs": [],
   "source": [
    "# Attribute generator \n",
    "toolbox.register(\"index\", np.random.choice, len(df_spot), 5, replace=False) # choose 5 spots"
   ]
  },
  {
   "cell_type": "code",
   "execution_count": 37,
   "metadata": {
    "ExecuteTime": {
     "end_time": "2020-09-07T19:52:03.293475Z",
     "start_time": "2020-09-07T19:52:03.287471Z"
    }
   },
   "outputs": [],
   "source": [
    "# Structure initializers\n",
    "toolbox.register(\"individual\", tools.initIterate, creator.Individual, toolbox.index)\n",
    "toolbox.register(\"population\", tools.initRepeat, list, toolbox.individual)"
   ]
  },
  {
   "cell_type": "code",
   "execution_count": 38,
   "metadata": {
    "ExecuteTime": {
     "end_time": "2020-09-07T19:52:12.846999Z",
     "start_time": "2020-09-07T19:52:12.836034Z"
    }
   },
   "outputs": [
    {
     "data": {
      "text/plain": [
       "[31, 17, 65, 48, 23]"
      ]
     },
     "execution_count": 38,
     "metadata": {},
     "output_type": "execute_result"
    }
   ],
   "source": [
    "# sample individual -> just index of the data\n",
    "ind = toolbox.individual()\n",
    "ind"
   ]
  },
  {
   "cell_type": "code",
   "execution_count": 42,
   "metadata": {
    "ExecuteTime": {
     "end_time": "2020-09-07T19:54:22.724936Z",
     "start_time": "2020-09-07T19:54:22.696974Z"
    }
   },
   "outputs": [
    {
     "data": {
      "text/html": [
       "<div>\n",
       "<style scoped>\n",
       "    .dataframe tbody tr th:only-of-type {\n",
       "        vertical-align: middle;\n",
       "    }\n",
       "\n",
       "    .dataframe tbody tr th {\n",
       "        vertical-align: top;\n",
       "    }\n",
       "\n",
       "    .dataframe thead th {\n",
       "        text-align: right;\n",
       "    }\n",
       "</style>\n",
       "<table border=\"1\" class=\"dataframe\">\n",
       "  <thead>\n",
       "    <tr style=\"text-align: right;\">\n",
       "      <th></th>\n",
       "      <th>street_ko</th>\n",
       "      <th>street_en</th>\n",
       "      <th>address</th>\n",
       "      <th>dong_ko</th>\n",
       "      <th>dong_en</th>\n",
       "      <th>lng</th>\n",
       "      <th>lat</th>\n",
       "      <th>score</th>\n",
       "    </tr>\n",
       "  </thead>\n",
       "  <tbody>\n",
       "    <tr>\n",
       "      <th>31</th>\n",
       "      <td>신의주찹쌀순대영등포구청역점</td>\n",
       "      <td>Sinuiju Korean Sausage with Sweet Rice</td>\n",
       "      <td>서울시 영등포구 당산1동 일대</td>\n",
       "      <td>당산1동</td>\n",
       "      <td>Dangsan1-dong</td>\n",
       "      <td>126.898484</td>\n",
       "      <td>37.521680</td>\n",
       "      <td>5</td>\n",
       "    </tr>\n",
       "    <tr>\n",
       "      <th>17</th>\n",
       "      <td>북악산길산책로</td>\n",
       "      <td>Bugaksan-gil</td>\n",
       "      <td>서울시 종로구 부암동 일대</td>\n",
       "      <td>부암동</td>\n",
       "      <td>Buam-dong</td>\n",
       "      <td>126.964084</td>\n",
       "      <td>37.592346</td>\n",
       "      <td>56</td>\n",
       "    </tr>\n",
       "    <tr>\n",
       "      <th>65</th>\n",
       "      <td>둘레길순례길구간</td>\n",
       "      <td>Sullye-gil course</td>\n",
       "      <td>서울시 강북구 우이동 일대</td>\n",
       "      <td>우이동</td>\n",
       "      <td>Insu-dong</td>\n",
       "      <td>127.004600</td>\n",
       "      <td>37.637094</td>\n",
       "      <td>36</td>\n",
       "    </tr>\n",
       "    <tr>\n",
       "      <th>48</th>\n",
       "      <td>연남동차이나타운</td>\n",
       "      <td>Chinatown</td>\n",
       "      <td>서울시 마포구 연남동 일대</td>\n",
       "      <td>연남동</td>\n",
       "      <td>Yeonnam-dong</td>\n",
       "      <td>126.922346</td>\n",
       "      <td>37.563108</td>\n",
       "      <td>22</td>\n",
       "    </tr>\n",
       "    <tr>\n",
       "      <th>23</th>\n",
       "      <td>해맞이길</td>\n",
       "      <td>Haemaji-gil</td>\n",
       "      <td>서울시 용산구 한남동 일대</td>\n",
       "      <td>한남동</td>\n",
       "      <td>Hannam-dong</td>\n",
       "      <td>127.005929</td>\n",
       "      <td>37.535397</td>\n",
       "      <td>7</td>\n",
       "    </tr>\n",
       "  </tbody>\n",
       "</table>\n",
       "</div>"
      ],
      "text/plain": [
       "         street_ko                               street_en           address  \\\n",
       "31  신의주찹쌀순대영등포구청역점  Sinuiju Korean Sausage with Sweet Rice  서울시 영등포구 당산1동 일대   \n",
       "17         북악산길산책로                            Bugaksan-gil    서울시 종로구 부암동 일대   \n",
       "65        둘레길순례길구간                       Sullye-gil course    서울시 강북구 우이동 일대   \n",
       "48        연남동차이나타운                               Chinatown    서울시 마포구 연남동 일대   \n",
       "23            해맞이길                             Haemaji-gil    서울시 용산구 한남동 일대   \n",
       "\n",
       "   dong_ko        dong_en         lng        lat  score  \n",
       "31    당산1동  Dangsan1-dong  126.898484  37.521680      5  \n",
       "17     부암동      Buam-dong  126.964084  37.592346     56  \n",
       "65     우이동      Insu-dong  127.004600  37.637094     36  \n",
       "48     연남동   Yeonnam-dong  126.922346  37.563108     22  \n",
       "23     한남동    Hannam-dong  127.005929  37.535397      7  "
      ]
     },
     "execution_count": 42,
     "metadata": {},
     "output_type": "execute_result"
    }
   ],
   "source": [
    "df_spot.iloc[ind]"
   ]
  },
  {
   "cell_type": "code",
   "execution_count": null,
   "metadata": {
    "collapsed": true
   },
   "outputs": [],
   "source": []
  },
  {
   "cell_type": "markdown",
   "metadata": {},
   "source": [
    "## The Evaluation Function\n",
    "- objective function 1. __total distance -> minimun__\n",
    "- objective function 2. __total score -> maximum__"
   ]
  },
  {
   "cell_type": "code",
   "execution_count": 45,
   "metadata": {
    "ExecuteTime": {
     "end_time": "2020-09-07T19:55:26.561336Z",
     "start_time": "2020-09-07T19:55:26.555334Z"
    }
   },
   "outputs": [],
   "source": [
    "def create_tour(individual):\n",
    "    return [(df_spot.iloc[i].lat, df_spot.iloc[i].lng) for i in individual]"
   ]
  },
  {
   "cell_type": "code",
   "execution_count": 46,
   "metadata": {
    "ExecuteTime": {
     "end_time": "2020-09-07T19:55:27.072339Z",
     "start_time": "2020-09-07T19:55:27.063338Z"
    }
   },
   "outputs": [
    {
     "data": {
      "text/plain": [
       "[(37.52168028, 126.89848402959998),\n",
       " (37.5923458269, 126.9640836947),\n",
       " (37.6370942943, 127.0045998616),\n",
       " (37.563108312800004, 126.9223460779),\n",
       " (37.5353973609, 127.0059286959)]"
      ]
     },
     "execution_count": 46,
     "metadata": {},
     "output_type": "execute_result"
    }
   ],
   "source": [
    "# convert index to geo data for get distance.\n",
    "tour = create_tour(ind)\n",
    "tour"
   ]
  },
  {
   "cell_type": "code",
   "execution_count": 47,
   "metadata": {
    "ExecuteTime": {
     "end_time": "2020-09-07T19:55:46.722350Z",
     "start_time": "2020-09-07T19:55:46.714347Z"
    }
   },
   "outputs": [],
   "source": [
    "## Function for get a total distance of tour case\n",
    "def total_distance(tour):\n",
    "    tour_sum = sum(distance(tour[i], tour[i+1]) for i in range(len(tour)-1))\n",
    "    return tour_sum\n",
    "\n",
    "def distance(spot1, spot2):\n",
    "    # convert decimal degrees to radians \n",
    "    lng1, lat1, lng2, lat2 = map(radians, [spot1[0], spot1[1], spot2[0], spot2[1]])\n",
    "    \n",
    "    RADIUS = 6371 # FAA approved globe radius in km\n",
    "    \n",
    "    dlng = lng2-lng1\n",
    "    dlat = lat2-lat1\n",
    "    a = sin(dlat/2)**2 + cos(lat1) * cos(lat2) * sin(dlng/2)**2\n",
    "    c = 2 * asin(sqrt(a)) \n",
    "    dist = RADIUS * c\n",
    "    return dist"
   ]
  },
  {
   "cell_type": "code",
   "execution_count": 48,
   "metadata": {
    "ExecuteTime": {
     "end_time": "2020-09-07T19:55:47.718080Z",
     "start_time": "2020-09-07T19:55:47.708079Z"
    }
   },
   "outputs": [
    {
     "data": {
      "text/plain": [
       "33.97313427096145"
      ]
     },
     "execution_count": 48,
     "metadata": {},
     "output_type": "execute_result"
    }
   ],
   "source": [
    "# total distance of sample individual\n",
    "total_distance(tour)"
   ]
  },
  {
   "cell_type": "code",
   "execution_count": 49,
   "metadata": {
    "ExecuteTime": {
     "end_time": "2020-09-07T19:56:26.124965Z",
     "start_time": "2020-09-07T19:56:26.113962Z"
    }
   },
   "outputs": [],
   "source": [
    "def plot_tour(ind):\n",
    "    tour = create_tour(ind)\n",
    "    m = folium.Map(location=[np.mean(df_spot.lat), np.mean(df_spot.lng)], zoom_start=13)\n",
    "    path=folium.PolyLine(locations=tour,weight=5)\n",
    "    m.add_children(path)\n",
    "    for i,loc in enumerate(ind):\n",
    "        popup_txt = \"%s // Score : %s \" % (df_spot.iloc[loc].street_en, df_spot.iloc[loc].score)\n",
    "        folium.Marker(tour[i], popup=popup_txt).add_to(m)\n",
    "    return m"
   ]
  },
  {
   "cell_type": "code",
   "execution_count": 50,
   "metadata": {
    "ExecuteTime": {
     "end_time": "2020-09-07T19:56:27.364715Z",
     "start_time": "2020-09-07T19:56:27.312715Z"
    },
    "scrolled": false
   },
   "outputs": [
    {
     "name": "stderr",
     "output_type": "stream",
     "text": [
      "C:\\Users\\AW639XJ\\.conda\\envs\\ey-hindalco-env\\lib\\site-packages\\ipykernel_launcher.py:5: FutureWarning: Method `add_children` is deprecated. Please use `add_child` instead.\n",
      "  \"\"\"\n"
     ]
    },
    {
     "data": {
      "text/html": [
       "<div style=\"width:100%;\"><div style=\"position:relative;width:100%;height:0;padding-bottom:60%;\"><span style=\"color:#565656\">Make this Notebook Trusted to load map: File -> Trust Notebook</span><iframe src=\"about:blank\" style=\"position:absolute;width:100%;height:100%;left:0;top:0;border:none !important;\" data-html=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 onload=\"this.contentDocument.open();this.contentDocument.write(atob(this.getAttribute('data-html')));this.contentDocument.close();\" allowfullscreen webkitallowfullscreen mozallowfullscreen></iframe></div></div>"
      ],
      "text/plain": [
       "<folium.folium.Map at 0x19714c62a58>"
      ]
     },
     "execution_count": 50,
     "metadata": {},
     "output_type": "execute_result"
    }
   ],
   "source": [
    "# vizualize the tour\n",
    "plot_tour(ind)"
   ]
  },
  {
   "cell_type": "code",
   "execution_count": 53,
   "metadata": {
    "ExecuteTime": {
     "end_time": "2020-09-07T19:59:08.942194Z",
     "start_time": "2020-09-07T19:59:08.936218Z"
    }
   },
   "outputs": [],
   "source": [
    "def total_score(individual):\n",
    "    return sum([df_spot.iloc[i]['score'] for i in individual]) "
   ]
  },
  {
   "cell_type": "code",
   "execution_count": 54,
   "metadata": {
    "ExecuteTime": {
     "end_time": "2020-09-07T19:59:09.560191Z",
     "start_time": "2020-09-07T19:59:09.548226Z"
    }
   },
   "outputs": [
    {
     "data": {
      "text/plain": [
       "126"
      ]
     },
     "execution_count": 54,
     "metadata": {},
     "output_type": "execute_result"
    }
   ],
   "source": [
    "# total scores of the sample individual\n",
    "total_score(ind)"
   ]
  },
  {
   "cell_type": "code",
   "execution_count": 55,
   "metadata": {
    "ExecuteTime": {
     "end_time": "2020-09-07T19:59:41.602794Z",
     "start_time": "2020-09-07T19:59:41.596792Z"
    }
   },
   "outputs": [],
   "source": [
    "def eval_func(individual):\n",
    "    \n",
    "    # 1 total distance -> minimun\n",
    "    t_dist = total_distance(create_tour(individual))\n",
    "    \n",
    "    # 2 total score -> maximum\n",
    "    t_score = total_score(individual)\n",
    "    \n",
    "    # 3 penalty\n",
    "    penalty = len(individual) - len(set(individual))\n",
    "    t_dist += penalty*1000000\n",
    "    t_score -= penalty*1000000\n",
    "    \n",
    "    return t_dist, t_score"
   ]
  },
  {
   "cell_type": "code",
   "execution_count": 56,
   "metadata": {
    "ExecuteTime": {
     "end_time": "2020-09-07T19:59:43.863473Z",
     "start_time": "2020-09-07T19:59:43.849480Z"
    }
   },
   "outputs": [
    {
     "data": {
      "text/plain": [
       "(33.97313427096145, 126)"
      ]
     },
     "execution_count": 56,
     "metadata": {},
     "output_type": "execute_result"
    }
   ],
   "source": [
    "# total scores of the sample individual\n",
    "eval_func(ind) "
   ]
  },
  {
   "cell_type": "code",
   "execution_count": null,
   "metadata": {
    "collapsed": true
   },
   "outputs": [],
   "source": []
  },
  {
   "cell_type": "markdown",
   "metadata": {},
   "source": [
    "## The Genetic Operators"
   ]
  },
  {
   "cell_type": "code",
   "execution_count": 57,
   "metadata": {
    "ExecuteTime": {
     "end_time": "2020-09-07T19:59:59.190705Z",
     "start_time": "2020-09-07T19:59:59.185690Z"
    }
   },
   "outputs": [],
   "source": [
    "toolbox.register(\"evaluate\", eval_func)"
   ]
  },
  {
   "cell_type": "code",
   "execution_count": 58,
   "metadata": {
    "ExecuteTime": {
     "end_time": "2020-09-07T20:00:14.691012Z",
     "start_time": "2020-09-07T20:00:14.685048Z"
    }
   },
   "outputs": [],
   "source": [
    "toolbox.register(\"select\", tools.selNSGA2)\n",
    "toolbox.register(\"mate\", tools.cxTwoPoint)\n",
    "# tools.mutShuffleIndexes : Shuffle the attributes of the input individual and return the mutant.\n",
    "toolbox.register(\"mutate\", tools.mutShuffleIndexes, indpb=0.8) "
   ]
  },
  {
   "cell_type": "code",
   "execution_count": null,
   "metadata": {},
   "outputs": [],
   "source": []
  },
  {
   "cell_type": "markdown",
   "metadata": {},
   "source": [
    "## Evolving the Population"
   ]
  },
  {
   "cell_type": "code",
   "execution_count": 59,
   "metadata": {
    "ExecuteTime": {
     "end_time": "2020-09-07T20:00:17.411065Z",
     "start_time": "2020-09-07T20:00:17.407122Z"
    }
   },
   "outputs": [],
   "source": [
    "POP_SIZE = 100\n",
    "MAX_GEN = 100\n",
    "MUT_PROB = 0.2\n",
    "CX_PROB = 0.8"
   ]
  },
  {
   "cell_type": "markdown",
   "metadata": {},
   "source": [
    "### Creating the Population"
   ]
  },
  {
   "cell_type": "code",
   "execution_count": 60,
   "metadata": {
    "ExecuteTime": {
     "end_time": "2020-09-07T20:00:23.819105Z",
     "start_time": "2020-09-07T20:00:23.785103Z"
    },
    "scrolled": true
   },
   "outputs": [
    {
     "data": {
      "text/plain": [
       "[[10, 18, 33, 41, 36],\n",
       " [58, 27, 19, 3, 48],\n",
       " [48, 22, 56, 59, 67],\n",
       " [73, 68, 31, 5, 2],\n",
       " [60, 45, 13, 61, 37],\n",
       " [27, 1, 13, 70, 37],\n",
       " [69, 40, 62, 15, 11],\n",
       " [34, 36, 65, 73, 51],\n",
       " [8, 54, 13, 29, 27],\n",
       " [40, 41, 32, 24, 34],\n",
       " [24, 71, 30, 34, 67],\n",
       " [58, 30, 25, 28, 23],\n",
       " [60, 73, 9, 33, 32],\n",
       " [67, 66, 69, 19, 60],\n",
       " [43, 55, 66, 49, 48],\n",
       " [16, 46, 7, 69, 70],\n",
       " [65, 18, 26, 12, 14],\n",
       " [63, 28, 1, 27, 69],\n",
       " [11, 38, 1, 25, 23],\n",
       " [22, 40, 72, 19, 53],\n",
       " [54, 52, 10, 19, 50],\n",
       " [26, 38, 34, 19, 8],\n",
       " [73, 61, 43, 10, 37],\n",
       " [18, 24, 38, 49, 33],\n",
       " [54, 32, 2, 30, 24],\n",
       " [25, 8, 73, 29, 59],\n",
       " [73, 34, 63, 44, 29],\n",
       " [14, 43, 49, 61, 13],\n",
       " [48, 7, 21, 54, 11],\n",
       " [2, 55, 11, 56, 58],\n",
       " [32, 62, 39, 72, 51],\n",
       " [20, 41, 23, 34, 68],\n",
       " [61, 15, 65, 18, 28],\n",
       " [12, 47, 49, 57, 39],\n",
       " [9, 32, 67, 56, 70],\n",
       " [27, 50, 29, 42, 38],\n",
       " [3, 43, 8, 24, 14],\n",
       " [6, 48, 7, 51, 69],\n",
       " [26, 18, 62, 28, 60],\n",
       " [12, 50, 17, 65, 38],\n",
       " [63, 62, 69, 17, 19],\n",
       " [66, 46, 22, 63, 69],\n",
       " [26, 65, 49, 56, 14],\n",
       " [39, 28, 4, 60, 20],\n",
       " [12, 19, 17, 11, 64],\n",
       " [0, 18, 67, 38, 34],\n",
       " [4, 28, 42, 51, 15],\n",
       " [21, 17, 29, 47, 65],\n",
       " [44, 34, 30, 31, 64],\n",
       " [69, 17, 68, 44, 4],\n",
       " [35, 1, 60, 38, 55],\n",
       " [66, 30, 8, 9, 7],\n",
       " [33, 25, 60, 6, 58],\n",
       " [24, 58, 27, 9, 10],\n",
       " [18, 23, 6, 37, 21],\n",
       " [21, 10, 1, 35, 17],\n",
       " [15, 41, 37, 42, 10],\n",
       " [0, 61, 71, 53, 46],\n",
       " [52, 57, 18, 43, 11],\n",
       " [46, 48, 64, 9, 4],\n",
       " [57, 62, 13, 2, 56],\n",
       " [18, 69, 62, 43, 0],\n",
       " [69, 39, 11, 51, 9],\n",
       " [27, 17, 63, 49, 64],\n",
       " [52, 14, 29, 35, 18],\n",
       " [30, 2, 11, 36, 34],\n",
       " [74, 21, 13, 35, 39],\n",
       " [68, 60, 70, 22, 0],\n",
       " [71, 44, 53, 41, 31],\n",
       " [28, 9, 56, 70, 2],\n",
       " [46, 38, 1, 42, 39],\n",
       " [18, 33, 41, 32, 31],\n",
       " [30, 7, 37, 23, 50],\n",
       " [57, 21, 29, 65, 67],\n",
       " [47, 24, 0, 68, 18],\n",
       " [71, 69, 33, 48, 22],\n",
       " [28, 26, 40, 64, 12],\n",
       " [6, 37, 36, 2, 3],\n",
       " [20, 62, 6, 13, 55],\n",
       " [50, 30, 21, 43, 65],\n",
       " [7, 43, 71, 15, 47],\n",
       " [67, 16, 40, 66, 70],\n",
       " [38, 71, 43, 55, 36],\n",
       " [32, 14, 27, 17, 23],\n",
       " [43, 15, 53, 20, 34],\n",
       " [67, 43, 51, 23, 18],\n",
       " [73, 24, 5, 54, 53],\n",
       " [33, 47, 54, 42, 32],\n",
       " [36, 22, 69, 12, 11],\n",
       " [59, 61, 32, 37, 3],\n",
       " [11, 27, 64, 34, 6],\n",
       " [58, 46, 47, 39, 48],\n",
       " [3, 32, 45, 23, 47],\n",
       " [43, 34, 49, 51, 24],\n",
       " [33, 62, 69, 72, 59],\n",
       " [4, 3, 54, 56, 12],\n",
       " [71, 61, 72, 66, 30],\n",
       " [56, 22, 3, 67, 37],\n",
       " [24, 37, 62, 19, 45],\n",
       " [55, 22, 27, 20, 36]]"
      ]
     },
     "execution_count": 60,
     "metadata": {},
     "output_type": "execute_result"
    }
   ],
   "source": [
    "pop = toolbox.population(n=POP_SIZE)\n",
    "pop"
   ]
  },
  {
   "cell_type": "markdown",
   "metadata": {},
   "source": [
    "### The Appeal of Evolution"
   ]
  },
  {
   "cell_type": "code",
   "execution_count": 61,
   "metadata": {
    "ExecuteTime": {
     "end_time": "2020-09-07T20:00:36.843166Z",
     "start_time": "2020-09-07T20:00:36.837218Z"
    }
   },
   "outputs": [],
   "source": [
    "stats = tools.Statistics(lambda ind: ind.fitness.values)\n",
    "stats.register(\"avg\", np.mean, axis=0) \n",
    "stats.register(\"min\", np.min, axis=0)\n",
    "stats.register(\"max\", np.max, axis=0)"
   ]
  },
  {
   "cell_type": "code",
   "execution_count": 62,
   "metadata": {
    "ExecuteTime": {
     "end_time": "2020-09-07T20:01:42.646910Z",
     "start_time": "2020-09-07T20:00:55.682612Z"
    },
    "scrolled": true
   },
   "outputs": [
    {
     "name": "stdout",
     "output_type": "stream",
     "text": [
      "gen\tnevals\tavg                        \tmin                      \tmax                        \n",
      "0  \t100   \t[ 41.79457736 220.2       ]\t[10.40610172 59.        ]\t[102.52031507 380.        ]\n",
      "1  \t100   \t[ 33.37003485 254.13      ]\t[ 10.40610172 107.        ]\t[ 74.83360343 380.        ]\n",
      "2  \t100   \t[ 27.28675215 286.09      ]\t[  9.2287742 107.       ]  \t[ 74.83360343 380.        ]\n",
      "3  \t100   \t[ 23.51619982 310.77      ]\t[  8.32054307 107.        ]\t[ 59.18410205 449.        ]\n",
      "4  \t100   \t[ 20.63920626 325.39      ]\t[  7.62472055 116.        ]\t[ 48.02181692 449.        ]\n",
      "5  \t100   \t[ 18.4796617 337.32     ]  \t[  7.62472055 116.        ]\t[ 48.02181692 449.        ]\n",
      "6  \t100   \t[ 17.54096008 357.19      ]\t[  7.10802768 155.        ]\t[ 48.02181692 450.        ]\n",
      "7  \t100   \t[ 15.24224407 367.76      ]\t[  5.3925719 155.       ]  \t[ 37.00710287 461.        ]\n",
      "8  \t100   \t[ 14.29301227 380.12      ]\t[  5.3925719 155.       ]  \t[ 37.00710287 470.        ]\n",
      "9  \t100   \t[ 12.95179658 390.63      ]\t[  4.62858849 203.        ]\t[ 32.10321174 472.        ]\n",
      "10 \t100   \t[ 12.01088164 406.46      ]\t[  4.62858849 203.        ]\t[ 32.10321174 472.        ]\n",
      "11 \t100   \t[ 10.97452093 411.61      ]\t[  4.62858849 203.        ]\t[ 25.16038192 485.        ]\n",
      "12 \t100   \t[ 10.12514438 416.55      ]\t[  4.62858849 307.        ]\t[ 20.05032981 486.        ]\n",
      "13 \t100   \t[  9.47989626 420.84      ]\t[  4.62858849 307.        ]\t[ 20.05032981 486.        ]\n",
      "14 \t100   \t[  9.43385511 429.15      ]\t[  3.86692588 299.        ]\t[ 20.05032981 486.        ]\n",
      "15 \t100   \t[  9.51822275 434.97      ]\t[  3.86692588 299.        ]\t[ 20.05032981 486.        ]\n",
      "16 \t100   \t[  9.08511161 435.28      ]\t[  3.16323285 287.        ]\t[ 17.3353405 486.       ]  \n",
      "17 \t100   \t[  7.90929065 429.02      ]\t[  3.16323285 287.        ]\t[ 16.44248061 486.        ]\n",
      "18 \t100   \t[  7.39761102 426.66      ]\t[  3.16323285 268.        ]\t[ 12.94982548 490.        ]\n",
      "19 \t100   \t[  7.17733698 424.3       ]\t[  2.30604807 268.        ]\t[ 12.94982548 490.        ]\n",
      "20 \t100   \t[  6.60094187 415.33      ]\t[  2.30604807 266.        ]\t[ 12.74883645 490.        ]\n",
      "21 \t100   \t[  6.41321436 416.07      ]\t[  2.30604807 268.        ]\t[ 13.61478044 490.        ]\n",
      "22 \t100   \t[  6.49663726 423.11      ]\t[  2.30604807 268.        ]\t[ 13.61478044 491.        ]\n",
      "23 \t100   \t[  5.91796533 412.85      ]\t[  2.30604807 268.        ]\t[ 14.07783726 492.        ]\n",
      "24 \t100   \t[  5.76471091 409.3       ]\t[  2.30604807 287.        ]\t[ 14.07783726 492.        ]\n",
      "25 \t100   \t[  5.41773972 403.96      ]\t[  2.30604807 287.        ]\t[ 14.07783726 492.        ]\n",
      "26 \t100   \t[  5.35652878 403.69      ]\t[  2.30604807 287.        ]\t[ 14.07783726 492.        ]\n",
      "27 \t100   \t[  5.31257896 404.6       ]\t[  2.30604807 287.        ]\t[ 14.07783726 492.        ]\n",
      "28 \t100   \t[  5.27084562 413.39      ]\t[  2.30604807 287.        ]\t[ 14.07783726 492.        ]\n",
      "29 \t100   \t[  5.14612875 412.56      ]\t[  2.30604807 243.        ]\t[ 14.07783726 492.        ]\n",
      "30 \t100   \t[  4.93995016 410.66      ]\t[  2.30604807 243.        ]\t[ 14.07783726 492.        ]\n",
      "31 \t100   \t[  4.90522842 408.74      ]\t[  2.30604807 243.        ]\t[ 14.07783726 492.        ]\n",
      "32 \t100   \t[  4.6956707 398.62     ]  \t[  2.30604807 243.        ]\t[ 14.07783726 492.        ]\n",
      "33 \t100   \t[  4.61614586 405.27      ]\t[  2.1691599 243.       ]  \t[ 14.07783726 492.        ]\n",
      "34 \t100   \t[  4.51619973 405.11      ]\t[  2.1691599 243.       ]  \t[ 14.07783726 492.        ]\n",
      "35 \t100   \t[  4.21831165 410.07      ]\t[  2.1691599 243.       ]  \t[ 12.98742789 492.        ]\n",
      "36 \t100   \t[  4.06469173 410.39      ]\t[  2.1691599 243.       ]  \t[ 11.73639928 492.        ]\n",
      "37 \t100   \t[  3.87122599 413.06      ]\t[  2.1691599 255.       ]  \t[ 11.66533371 492.        ]\n",
      "38 \t100   \t[  3.75973432 415.16      ]\t[  2.1691599 255.       ]  \t[ 11.65848856 492.        ]\n",
      "39 \t100   \t[  3.58351238 416.86      ]\t[  2.1691599 255.       ]  \t[  8.72542329 492.        ]\n",
      "40 \t100   \t[  3.83223761 439.36      ]\t[  2.1691599 255.       ]  \t[  8.72542329 492.        ]\n",
      "41 \t100   \t[  3.95723453 443.89      ]\t[  2.1691599 255.       ]  \t[  8.72542329 492.        ]\n",
      "42 \t100   \t[  4.17929961 445.99      ]\t[  2.1691599 255.       ]  \t[  8.72542329 492.        ]\n",
      "43 \t100   \t[  4.60185719 458.15      ]\t[  2.1691599 255.       ]  \t[  8.72542329 492.        ]\n",
      "44 \t100   \t[  5.1886241 473.45     ]  \t[  2.1691599 255.       ]  \t[  8.72542329 492.        ]\n",
      "45 \t100   \t[  5.22110046 473.46      ]\t[  2.1691599 255.       ]  \t[  8.72542329 492.        ]\n",
      "46 \t100   \t[  5.25357683 473.47      ]\t[  2.1691599 255.       ]  \t[  8.72542329 492.        ]\n",
      "47 \t100   \t[  5.25357683 473.47      ]\t[  2.1691599 255.       ]  \t[  8.72542329 492.        ]\n",
      "48 \t100   \t[  5.31852955 473.49      ]\t[  2.1691599 255.       ]  \t[  8.72542329 492.        ]\n",
      "49 \t100   \t[  5.41595864 473.52      ]\t[  2.1691599 255.       ]  \t[  8.72542329 492.        ]\n",
      "50 \t100   \t[  5.48091137 473.54      ]\t[  2.1691599 255.       ]  \t[  8.72542329 492.        ]\n",
      "51 \t100   \t[  5.61081683 473.58      ]\t[  2.1691599 255.       ]  \t[  8.72542329 492.        ]\n",
      "52 \t100   \t[  5.67576955 473.6       ]\t[  2.1691599 255.       ]  \t[  8.72542329 492.        ]\n",
      "53 \t100   \t[  5.83815137 473.65      ]\t[  2.1691599 255.       ]  \t[  8.72542329 492.        ]\n",
      "54 \t100   \t[  6.13043865 473.74      ]\t[  2.1691599 255.       ]  \t[  8.72542329 492.        ]\n",
      "55 \t100   \t[  6.45520228 473.84      ]\t[  2.1691599 255.       ]  \t[  8.72542329 492.        ]\n",
      "56 \t100   \t[  7.29958774 474.1       ]\t[  2.1691599 255.       ]  \t[  8.72542329 492.        ]\n",
      "57 \t100   \t[  7.6893041 474.22     ]  \t[  2.1691599 255.       ]  \t[  8.72542329 492.        ]\n",
      "58 \t100   \t[  7.6893041 474.22     ]  \t[  2.1691599 255.       ]  \t[  8.72542329 492.        ]\n",
      "59 \t100   \t[  7.6893041 474.22     ]  \t[  2.1691599 255.       ]  \t[  8.72542329 492.        ]\n",
      "60 \t100   \t[  7.6893041 474.22     ]  \t[  2.1691599 255.       ]  \t[  8.72542329 492.        ]\n",
      "61 \t100   \t[  7.6893041 474.22     ]  \t[  2.1691599 255.       ]  \t[  8.72542329 492.        ]\n",
      "62 \t100   \t[  7.62453368 472.17      ]\t[  2.1691599 255.       ]  \t[  8.72542329 492.        ]\n",
      "63 \t100   \t[  7.62453368 472.17      ]\t[  2.1691599 255.       ]  \t[  8.72542329 492.        ]\n",
      "64 \t100   \t[  7.62453368 472.17      ]\t[  2.1691599 255.       ]  \t[  8.72542329 492.        ]\n",
      "65 \t100   \t[  7.62453368 472.17      ]\t[  2.1691599 255.       ]  \t[  8.72542329 492.        ]\n",
      "66 \t100   \t[  7.55976326 470.12      ]\t[  2.1691599 255.       ]  \t[  8.72542329 492.        ]\n",
      "67 \t100   \t[  7.55976326 470.12      ]\t[  2.1691599 255.       ]  \t[  8.72542329 492.        ]\n",
      "68 \t100   \t[  7.55976326 470.12      ]\t[  2.1691599 255.       ]  \t[  8.72542329 492.        ]\n",
      "69 \t100   \t[  7.55976326 470.12      ]\t[  2.1691599 255.       ]  \t[  8.72542329 492.        ]\n",
      "70 \t100   \t[  7.55976326 470.12      ]\t[  2.1691599 255.       ]  \t[  8.72542329 492.        ]\n",
      "71 \t100   \t[  7.55976326 470.12      ]\t[  2.1691599 255.       ]  \t[  8.72542329 492.        ]\n",
      "72 \t100   \t[  7.55976326 470.12      ]\t[  2.1691599 255.       ]  \t[  8.72542329 492.        ]\n",
      "73 \t100   \t[  7.55976326 470.12      ]\t[  2.1691599 255.       ]  \t[  8.72542329 492.        ]\n",
      "74 \t100   \t[  7.55976326 470.12      ]\t[  2.1691599 255.       ]  \t[  8.72542329 492.        ]\n",
      "75 \t100   \t[  7.55976326 470.12      ]\t[  2.1691599 255.       ]  \t[  8.72542329 492.        ]\n",
      "76 \t100   \t[  7.55976326 470.12      ]\t[  2.1691599 255.       ]  \t[  8.72542329 492.        ]\n",
      "77 \t100   \t[  7.55976326 470.12      ]\t[  2.1691599 255.       ]  \t[  8.72542329 492.        ]\n",
      "78 \t100   \t[  7.55976326 470.12      ]\t[  2.1691599 255.       ]  \t[  8.72542329 492.        ]\n",
      "79 \t100   \t[  7.55976326 470.12      ]\t[  2.1691599 255.       ]  \t[  8.72542329 492.        ]\n",
      "80 \t100   \t[  7.55976326 470.12      ]\t[  2.1691599 255.       ]  \t[  8.72542329 492.        ]\n",
      "81 \t100   \t[  7.55976326 470.12      ]\t[  2.1691599 255.       ]  \t[  8.72542329 492.        ]\n",
      "82 \t100   \t[  7.55976326 470.12      ]\t[  2.1691599 255.       ]  \t[  8.72542329 492.        ]\n",
      "83 \t100   \t[  7.55976326 470.12      ]\t[  2.1691599 255.       ]  \t[  8.72542329 492.        ]\n",
      "84 \t100   \t[  7.55976326 470.12      ]\t[  2.1691599 255.       ]  \t[  8.72542329 492.        ]\n",
      "85 \t100   \t[  7.55976326 470.12      ]\t[  2.1691599 255.       ]  \t[  8.72542329 492.        ]\n"
     ]
    },
    {
     "name": "stdout",
     "output_type": "stream",
     "text": [
      "86 \t100   \t[  7.55976326 470.12      ]\t[  2.1691599 255.       ]  \t[  8.72542329 492.        ]\n",
      "87 \t100   \t[  7.55976326 470.12      ]\t[  2.1691599 255.       ]  \t[  8.72542329 492.        ]\n",
      "88 \t100   \t[  7.55976326 470.12      ]\t[  2.1691599 255.       ]  \t[  8.72542329 492.        ]\n",
      "89 \t100   \t[  7.55976326 470.12      ]\t[  2.1691599 255.       ]  \t[  8.72542329 492.        ]\n",
      "90 \t100   \t[  7.55976326 470.12      ]\t[  2.1691599 255.       ]  \t[  8.72542329 492.        ]\n",
      "91 \t100   \t[  7.55976326 470.12      ]\t[  2.1691599 255.       ]  \t[  8.72542329 492.        ]\n",
      "92 \t100   \t[  7.55976326 470.12      ]\t[  2.1691599 255.       ]  \t[  8.72542329 492.        ]\n",
      "93 \t100   \t[  7.55976326 470.12      ]\t[  2.1691599 255.       ]  \t[  8.72542329 492.        ]\n",
      "94 \t100   \t[  7.55976326 470.12      ]\t[  2.1691599 255.       ]  \t[  8.72542329 492.        ]\n",
      "95 \t100   \t[  7.55976326 470.12      ]\t[  2.1691599 255.       ]  \t[  8.72542329 492.        ]\n",
      "96 \t100   \t[  7.55976326 470.12      ]\t[  2.1691599 255.       ]  \t[  8.72542329 492.        ]\n",
      "97 \t100   \t[  7.55976326 470.12      ]\t[  2.1691599 255.       ]  \t[  8.72542329 492.        ]\n",
      "98 \t100   \t[  7.55976326 470.12      ]\t[  2.1691599 255.       ]  \t[  8.72542329 492.        ]\n",
      "99 \t100   \t[  7.55976326 470.12      ]\t[  2.1691599 255.       ]  \t[  8.72542329 492.        ]\n",
      "100\t100   \t[  7.55976326 470.12      ]\t[  2.1691599 255.       ]  \t[  8.72542329 492.        ]\n",
      "Wall time: 47 s\n"
     ]
    }
   ],
   "source": [
    "%%time \n",
    "result, log = algorithms.eaMuPlusLambda(pop, \n",
    "                                     toolbox, \n",
    "                                     mu=POP_SIZE, # The number of individuals to select for the next generation.\n",
    "                                     lambda_= POP_SIZE, # The number of children to produce at each generation.\n",
    "                                     cxpb= CX_PROB,\n",
    "                                     mutpb= MUT_PROB, \n",
    "                                     stats= stats, \n",
    "                                     ngen= MAX_GEN,\n",
    "                                     verbose= True)"
   ]
  },
  {
   "cell_type": "code",
   "execution_count": null,
   "metadata": {
    "collapsed": true
   },
   "outputs": [],
   "source": []
  },
  {
   "cell_type": "code",
   "execution_count": null,
   "metadata": {
    "collapsed": true
   },
   "outputs": [],
   "source": []
  },
  {
   "cell_type": "markdown",
   "metadata": {},
   "source": [
    "## Make a decision"
   ]
  },
  {
   "cell_type": "code",
   "execution_count": 63,
   "metadata": {
    "ExecuteTime": {
     "end_time": "2020-09-07T20:01:58.709962Z",
     "start_time": "2020-09-07T20:01:58.688958Z"
    },
    "scrolled": true
   },
   "outputs": [
    {
     "data": {
      "text/plain": [
       "[[[8, 14, 12, 4, 2],\n",
       "  [8, 14, 12, 4, 2],\n",
       "  [8, 14, 12, 4, 3],\n",
       "  [8, 14, 12, 4, 3],\n",
       "  [2, 4, 3, 12, 14],\n",
       "  [2, 4, 3, 12, 14],\n",
       "  [26, 25, 2, 4, 3],\n",
       "  [26, 25, 2, 4, 3],\n",
       "  [26, 25, 2, 4, 14],\n",
       "  [26, 25, 2, 4, 14],\n",
       "  [26, 25, 3, 12, 14],\n",
       "  [26, 25, 3, 12, 14],\n",
       "  [26, 25, 3, 8, 14],\n",
       "  [26, 25, 3, 8, 14],\n",
       "  [13, 7, 0, 25, 26],\n",
       "  [13, 7, 0, 25, 26],\n",
       "  [26, 25, 3, 13, 7],\n",
       "  [26, 25, 3, 13, 7],\n",
       "  [26, 25, 3, 14, 13],\n",
       "  [26, 25, 3, 14, 13],\n",
       "  [26, 25, 7, 13, 14],\n",
       "  [26, 25, 7, 13, 14],\n",
       "  [73, 26, 25, 13, 14],\n",
       "  [73, 26, 25, 13, 14],\n",
       "  [73, 26, 25, 13, 14],\n",
       "  [73, 26, 25, 13, 14],\n",
       "  [73, 26, 25, 13, 14],\n",
       "  [73, 26, 25, 13, 14],\n",
       "  [73, 26, 25, 13, 14],\n",
       "  [73, 26, 25, 13, 14],\n",
       "  [73, 26, 25, 13, 14],\n",
       "  [73, 26, 25, 13, 14],\n",
       "  [73, 26, 25, 13, 14],\n",
       "  [73, 26, 25, 13, 14],\n",
       "  [73, 26, 25, 13, 14],\n",
       "  [73, 26, 25, 13, 14],\n",
       "  [73, 26, 25, 13, 14],\n",
       "  [73, 26, 25, 13, 14],\n",
       "  [73, 26, 25, 13, 14],\n",
       "  [73, 26, 25, 13, 14],\n",
       "  [73, 26, 25, 13, 14],\n",
       "  [73, 26, 25, 13, 14],\n",
       "  [73, 26, 25, 13, 14],\n",
       "  [73, 26, 25, 13, 14],\n",
       "  [73, 26, 25, 13, 14],\n",
       "  [73, 26, 25, 13, 14],\n",
       "  [73, 26, 25, 13, 14],\n",
       "  [73, 26, 25, 13, 14],\n",
       "  [73, 26, 25, 13, 14],\n",
       "  [73, 26, 25, 13, 14],\n",
       "  [73, 26, 25, 13, 14],\n",
       "  [73, 26, 25, 13, 14],\n",
       "  [73, 26, 25, 13, 14],\n",
       "  [73, 26, 25, 13, 14],\n",
       "  [73, 26, 25, 13, 14],\n",
       "  [73, 26, 25, 13, 14],\n",
       "  [73, 26, 25, 13, 14],\n",
       "  [73, 26, 25, 13, 14],\n",
       "  [73, 26, 25, 13, 14],\n",
       "  [73, 26, 25, 13, 14],\n",
       "  [73, 26, 25, 13, 14],\n",
       "  [73, 26, 25, 13, 14],\n",
       "  [73, 26, 25, 13, 14],\n",
       "  [73, 26, 25, 13, 14],\n",
       "  [73, 26, 25, 13, 14],\n",
       "  [73, 26, 25, 13, 14],\n",
       "  [73, 26, 25, 13, 14],\n",
       "  [73, 26, 25, 13, 14],\n",
       "  [73, 26, 25, 13, 14],\n",
       "  [73, 26, 25, 13, 14],\n",
       "  [73, 26, 25, 13, 14],\n",
       "  [73, 26, 25, 13, 14],\n",
       "  [73, 26, 25, 13, 14],\n",
       "  [73, 26, 25, 13, 14],\n",
       "  [73, 26, 25, 13, 14],\n",
       "  [73, 26, 25, 13, 14],\n",
       "  [73, 26, 25, 13, 14],\n",
       "  [73, 26, 25, 13, 14],\n",
       "  [73, 26, 25, 13, 14],\n",
       "  [73, 26, 25, 13, 14],\n",
       "  [73, 26, 25, 13, 14],\n",
       "  [73, 26, 25, 13, 14],\n",
       "  [73, 26, 25, 13, 14],\n",
       "  [73, 26, 25, 13, 14],\n",
       "  [73, 26, 25, 13, 14],\n",
       "  [73, 26, 25, 13, 14],\n",
       "  [73, 26, 25, 13, 14],\n",
       "  [73, 26, 25, 13, 14],\n",
       "  [73, 26, 25, 13, 14],\n",
       "  [73, 26, 25, 13, 14],\n",
       "  [73, 26, 25, 13, 14],\n",
       "  [73, 26, 25, 13, 14],\n",
       "  [73, 26, 25, 13, 14],\n",
       "  [73, 26, 25, 13, 14],\n",
       "  [73, 26, 25, 13, 14],\n",
       "  [73, 26, 25, 13, 14],\n",
       "  [73, 26, 25, 13, 14],\n",
       "  [73, 26, 25, 13, 14],\n",
       "  [73, 26, 25, 13, 14],\n",
       "  [73, 26, 25, 13, 14]]]"
      ]
     },
     "execution_count": 63,
     "metadata": {},
     "output_type": "execute_result"
    }
   ],
   "source": [
    "fronts = tools.emo.sortLogNondominated(result, len(result))\n",
    "fronts"
   ]
  },
  {
   "cell_type": "code",
   "execution_count": null,
   "metadata": {
    "collapsed": true
   },
   "outputs": [],
   "source": []
  },
  {
   "cell_type": "code",
   "execution_count": 64,
   "metadata": {
    "ExecuteTime": {
     "end_time": "2020-09-07T20:02:22.383806Z",
     "start_time": "2020-09-07T20:02:21.640945Z"
    }
   },
   "outputs": [
    {
     "data": {
      "text/html": [
       "\n",
       "    <div class=\"bk-root\">\n",
       "        <a href=\"https://bokeh.org\" target=\"_blank\" class=\"bk-logo bk-logo-small bk-logo-notebook\"></a>\n",
       "        <span id=\"1001\">Loading BokehJS ...</span>\n",
       "    </div>"
      ]
     },
     "metadata": {},
     "output_type": "display_data"
    },
    {
     "data": {
      "application/javascript": [
       "\n",
       "(function(root) {\n",
       "  function now() {\n",
       "    return new Date();\n",
       "  }\n",
       "\n",
       "  var force = true;\n",
       "\n",
       "  if (typeof root._bokeh_onload_callbacks === \"undefined\" || force === true) {\n",
       "    root._bokeh_onload_callbacks = [];\n",
       "    root._bokeh_is_loading = undefined;\n",
       "  }\n",
       "\n",
       "  var JS_MIME_TYPE = 'application/javascript';\n",
       "  var HTML_MIME_TYPE = 'text/html';\n",
       "  var EXEC_MIME_TYPE = 'application/vnd.bokehjs_exec.v0+json';\n",
       "  var CLASS_NAME = 'output_bokeh rendered_html';\n",
       "\n",
       "  /**\n",
       "   * Render data to the DOM node\n",
       "   */\n",
       "  function render(props, node) {\n",
       "    var script = document.createElement(\"script\");\n",
       "    node.appendChild(script);\n",
       "  }\n",
       "\n",
       "  /**\n",
       "   * Handle when an output is cleared or removed\n",
       "   */\n",
       "  function handleClearOutput(event, handle) {\n",
       "    var cell = handle.cell;\n",
       "\n",
       "    var id = cell.output_area._bokeh_element_id;\n",
       "    var server_id = cell.output_area._bokeh_server_id;\n",
       "    // Clean up Bokeh references\n",
       "    if (id != null && id in Bokeh.index) {\n",
       "      Bokeh.index[id].model.document.clear();\n",
       "      delete Bokeh.index[id];\n",
       "    }\n",
       "\n",
       "    if (server_id !== undefined) {\n",
       "      // Clean up Bokeh references\n",
       "      var cmd = \"from bokeh.io.state import curstate; print(curstate().uuid_to_server['\" + server_id + \"'].get_sessions()[0].document.roots[0]._id)\";\n",
       "      cell.notebook.kernel.execute(cmd, {\n",
       "        iopub: {\n",
       "          output: function(msg) {\n",
       "            var id = msg.content.text.trim();\n",
       "            if (id in Bokeh.index) {\n",
       "              Bokeh.index[id].model.document.clear();\n",
       "              delete Bokeh.index[id];\n",
       "            }\n",
       "          }\n",
       "        }\n",
       "      });\n",
       "      // Destroy server and session\n",
       "      var cmd = \"import bokeh.io.notebook as ion; ion.destroy_server('\" + server_id + \"')\";\n",
       "      cell.notebook.kernel.execute(cmd);\n",
       "    }\n",
       "  }\n",
       "\n",
       "  /**\n",
       "   * Handle when a new output is added\n",
       "   */\n",
       "  function handleAddOutput(event, handle) {\n",
       "    var output_area = handle.output_area;\n",
       "    var output = handle.output;\n",
       "\n",
       "    // limit handleAddOutput to display_data with EXEC_MIME_TYPE content only\n",
       "    if ((output.output_type != \"display_data\") || (!output.data.hasOwnProperty(EXEC_MIME_TYPE))) {\n",
       "      return\n",
       "    }\n",
       "\n",
       "    var toinsert = output_area.element.find(\".\" + CLASS_NAME.split(' ')[0]);\n",
       "\n",
       "    if (output.metadata[EXEC_MIME_TYPE][\"id\"] !== undefined) {\n",
       "      toinsert[toinsert.length - 1].firstChild.textContent = output.data[JS_MIME_TYPE];\n",
       "      // store reference to embed id on output_area\n",
       "      output_area._bokeh_element_id = output.metadata[EXEC_MIME_TYPE][\"id\"];\n",
       "    }\n",
       "    if (output.metadata[EXEC_MIME_TYPE][\"server_id\"] !== undefined) {\n",
       "      var bk_div = document.createElement(\"div\");\n",
       "      bk_div.innerHTML = output.data[HTML_MIME_TYPE];\n",
       "      var script_attrs = bk_div.children[0].attributes;\n",
       "      for (var i = 0; i < script_attrs.length; i++) {\n",
       "        toinsert[toinsert.length - 1].firstChild.setAttribute(script_attrs[i].name, script_attrs[i].value);\n",
       "      }\n",
       "      // store reference to server id on output_area\n",
       "      output_area._bokeh_server_id = output.metadata[EXEC_MIME_TYPE][\"server_id\"];\n",
       "    }\n",
       "  }\n",
       "\n",
       "  function register_renderer(events, OutputArea) {\n",
       "\n",
       "    function append_mime(data, metadata, element) {\n",
       "      // create a DOM node to render to\n",
       "      var toinsert = this.create_output_subarea(\n",
       "        metadata,\n",
       "        CLASS_NAME,\n",
       "        EXEC_MIME_TYPE\n",
       "      );\n",
       "      this.keyboard_manager.register_events(toinsert);\n",
       "      // Render to node\n",
       "      var props = {data: data, metadata: metadata[EXEC_MIME_TYPE]};\n",
       "      render(props, toinsert[toinsert.length - 1]);\n",
       "      element.append(toinsert);\n",
       "      return toinsert\n",
       "    }\n",
       "\n",
       "    /* Handle when an output is cleared or removed */\n",
       "    events.on('clear_output.CodeCell', handleClearOutput);\n",
       "    events.on('delete.Cell', handleClearOutput);\n",
       "\n",
       "    /* Handle when a new output is added */\n",
       "    events.on('output_added.OutputArea', handleAddOutput);\n",
       "\n",
       "    /**\n",
       "     * Register the mime type and append_mime function with output_area\n",
       "     */\n",
       "    OutputArea.prototype.register_mime_type(EXEC_MIME_TYPE, append_mime, {\n",
       "      /* Is output safe? */\n",
       "      safe: true,\n",
       "      /* Index of renderer in `output_area.display_order` */\n",
       "      index: 0\n",
       "    });\n",
       "  }\n",
       "\n",
       "  // register the mime type if in Jupyter Notebook environment and previously unregistered\n",
       "  if (root.Jupyter !== undefined) {\n",
       "    var events = require('base/js/events');\n",
       "    var OutputArea = require('notebook/js/outputarea').OutputArea;\n",
       "\n",
       "    if (OutputArea.prototype.mime_types().indexOf(EXEC_MIME_TYPE) == -1) {\n",
       "      register_renderer(events, OutputArea);\n",
       "    }\n",
       "  }\n",
       "\n",
       "  \n",
       "  if (typeof (root._bokeh_timeout) === \"undefined\" || force === true) {\n",
       "    root._bokeh_timeout = Date.now() + 5000;\n",
       "    root._bokeh_failed_load = false;\n",
       "  }\n",
       "\n",
       "  var NB_LOAD_WARNING = {'data': {'text/html':\n",
       "     \"<div style='background-color: #fdd'>\\n\"+\n",
       "     \"<p>\\n\"+\n",
       "     \"BokehJS does not appear to have successfully loaded. If loading BokehJS from CDN, this \\n\"+\n",
       "     \"may be due to a slow or bad network connection. Possible fixes:\\n\"+\n",
       "     \"</p>\\n\"+\n",
       "     \"<ul>\\n\"+\n",
       "     \"<li>re-rerun `output_notebook()` to attempt to load from CDN again, or</li>\\n\"+\n",
       "     \"<li>use INLINE resources instead, as so:</li>\\n\"+\n",
       "     \"</ul>\\n\"+\n",
       "     \"<code>\\n\"+\n",
       "     \"from bokeh.resources import INLINE\\n\"+\n",
       "     \"output_notebook(resources=INLINE)\\n\"+\n",
       "     \"</code>\\n\"+\n",
       "     \"</div>\"}};\n",
       "\n",
       "  function display_loaded() {\n",
       "    var el = document.getElementById(\"1001\");\n",
       "    if (el != null) {\n",
       "      el.textContent = \"BokehJS is loading...\";\n",
       "    }\n",
       "    if (root.Bokeh !== undefined) {\n",
       "      if (el != null) {\n",
       "        el.textContent = \"BokehJS \" + root.Bokeh.version + \" successfully loaded.\";\n",
       "      }\n",
       "    } else if (Date.now() < root._bokeh_timeout) {\n",
       "      setTimeout(display_loaded, 100)\n",
       "    }\n",
       "  }\n",
       "\n",
       "\n",
       "  function run_callbacks() {\n",
       "    try {\n",
       "      root._bokeh_onload_callbacks.forEach(function(callback) {\n",
       "        if (callback != null)\n",
       "          callback();\n",
       "      });\n",
       "    } finally {\n",
       "      delete root._bokeh_onload_callbacks\n",
       "    }\n",
       "    console.debug(\"Bokeh: all callbacks have finished\");\n",
       "  }\n",
       "\n",
       "  function load_libs(css_urls, js_urls, callback) {\n",
       "    if (css_urls == null) css_urls = [];\n",
       "    if (js_urls == null) js_urls = [];\n",
       "\n",
       "    root._bokeh_onload_callbacks.push(callback);\n",
       "    if (root._bokeh_is_loading > 0) {\n",
       "      console.debug(\"Bokeh: BokehJS is being loaded, scheduling callback at\", now());\n",
       "      return null;\n",
       "    }\n",
       "    if (js_urls == null || js_urls.length === 0) {\n",
       "      run_callbacks();\n",
       "      return null;\n",
       "    }\n",
       "    console.debug(\"Bokeh: BokehJS not loaded, scheduling load and callback at\", now());\n",
       "    root._bokeh_is_loading = css_urls.length + js_urls.length;\n",
       "\n",
       "    function on_load() {\n",
       "      root._bokeh_is_loading--;\n",
       "      if (root._bokeh_is_loading === 0) {\n",
       "        console.debug(\"Bokeh: all BokehJS libraries/stylesheets loaded\");\n",
       "        run_callbacks()\n",
       "      }\n",
       "    }\n",
       "\n",
       "    function on_error() {\n",
       "      console.error(\"failed to load \" + url);\n",
       "    }\n",
       "\n",
       "    for (var i = 0; i < css_urls.length; i++) {\n",
       "      var url = css_urls[i];\n",
       "      const element = document.createElement(\"link\");\n",
       "      element.onload = on_load;\n",
       "      element.onerror = on_error;\n",
       "      element.rel = \"stylesheet\";\n",
       "      element.type = \"text/css\";\n",
       "      element.href = url;\n",
       "      console.debug(\"Bokeh: injecting link tag for BokehJS stylesheet: \", url);\n",
       "      document.body.appendChild(element);\n",
       "    }\n",
       "\n",
       "    for (var i = 0; i < js_urls.length; i++) {\n",
       "      var url = js_urls[i];\n",
       "      var element = document.createElement('script');\n",
       "      element.onload = on_load;\n",
       "      element.onerror = on_error;\n",
       "      element.async = false;\n",
       "      element.src = url;\n",
       "      console.debug(\"Bokeh: injecting script tag for BokehJS library: \", url);\n",
       "      document.head.appendChild(element);\n",
       "    }\n",
       "  };var element = document.getElementById(\"1001\");\n",
       "  if (element == null) {\n",
       "    console.error(\"Bokeh: ERROR: autoload.js configured with elementid '1001' but no matching script tag was found. \")\n",
       "    return false;\n",
       "  }\n",
       "\n",
       "  function inject_raw_css(css) {\n",
       "    const element = document.createElement(\"style\");\n",
       "    element.appendChild(document.createTextNode(css));\n",
       "    document.body.appendChild(element);\n",
       "  }\n",
       "\n",
       "  \n",
       "  var js_urls = [\"https://cdn.pydata.org/bokeh/release/bokeh-1.4.0.min.js\", \"https://cdn.pydata.org/bokeh/release/bokeh-widgets-1.4.0.min.js\", \"https://cdn.pydata.org/bokeh/release/bokeh-tables-1.4.0.min.js\", \"https://cdn.pydata.org/bokeh/release/bokeh-gl-1.4.0.min.js\"];\n",
       "  var css_urls = [];\n",
       "  \n",
       "\n",
       "  var inline_js = [\n",
       "    function(Bokeh) {\n",
       "      Bokeh.set_log_level(\"info\");\n",
       "    },\n",
       "    function(Bokeh) {\n",
       "    \n",
       "    \n",
       "    }\n",
       "  ];\n",
       "\n",
       "  function run_inline_js() {\n",
       "    \n",
       "    if (root.Bokeh !== undefined || force === true) {\n",
       "      \n",
       "    for (var i = 0; i < inline_js.length; i++) {\n",
       "      inline_js[i].call(root, root.Bokeh);\n",
       "    }\n",
       "    if (force === true) {\n",
       "        display_loaded();\n",
       "      }} else if (Date.now() < root._bokeh_timeout) {\n",
       "      setTimeout(run_inline_js, 100);\n",
       "    } else if (!root._bokeh_failed_load) {\n",
       "      console.log(\"Bokeh: BokehJS failed to load within specified timeout.\");\n",
       "      root._bokeh_failed_load = true;\n",
       "    } else if (force !== true) {\n",
       "      var cell = $(document.getElementById(\"1001\")).parents('.cell').data().cell;\n",
       "      cell.output_area.append_execute_result(NB_LOAD_WARNING)\n",
       "    }\n",
       "\n",
       "  }\n",
       "\n",
       "  if (root._bokeh_is_loading === 0) {\n",
       "    console.debug(\"Bokeh: BokehJS loaded, going straight to plotting\");\n",
       "    run_inline_js();\n",
       "  } else {\n",
       "    load_libs(css_urls, js_urls, function() {\n",
       "      console.debug(\"Bokeh: BokehJS plotting callback run at\", now());\n",
       "      run_inline_js();\n",
       "    });\n",
       "  }\n",
       "}(window));"
      ],
      "application/vnd.bokehjs_load.v0+json": "\n(function(root) {\n  function now() {\n    return new Date();\n  }\n\n  var force = true;\n\n  if (typeof root._bokeh_onload_callbacks === \"undefined\" || force === true) {\n    root._bokeh_onload_callbacks = [];\n    root._bokeh_is_loading = undefined;\n  }\n\n  \n\n  \n  if (typeof (root._bokeh_timeout) === \"undefined\" || force === true) {\n    root._bokeh_timeout = Date.now() + 5000;\n    root._bokeh_failed_load = false;\n  }\n\n  var NB_LOAD_WARNING = {'data': {'text/html':\n     \"<div style='background-color: #fdd'>\\n\"+\n     \"<p>\\n\"+\n     \"BokehJS does not appear to have successfully loaded. If loading BokehJS from CDN, this \\n\"+\n     \"may be due to a slow or bad network connection. Possible fixes:\\n\"+\n     \"</p>\\n\"+\n     \"<ul>\\n\"+\n     \"<li>re-rerun `output_notebook()` to attempt to load from CDN again, or</li>\\n\"+\n     \"<li>use INLINE resources instead, as so:</li>\\n\"+\n     \"</ul>\\n\"+\n     \"<code>\\n\"+\n     \"from bokeh.resources import INLINE\\n\"+\n     \"output_notebook(resources=INLINE)\\n\"+\n     \"</code>\\n\"+\n     \"</div>\"}};\n\n  function display_loaded() {\n    var el = document.getElementById(\"1001\");\n    if (el != null) {\n      el.textContent = \"BokehJS is loading...\";\n    }\n    if (root.Bokeh !== undefined) {\n      if (el != null) {\n        el.textContent = \"BokehJS \" + root.Bokeh.version + \" successfully loaded.\";\n      }\n    } else if (Date.now() < root._bokeh_timeout) {\n      setTimeout(display_loaded, 100)\n    }\n  }\n\n\n  function run_callbacks() {\n    try {\n      root._bokeh_onload_callbacks.forEach(function(callback) {\n        if (callback != null)\n          callback();\n      });\n    } finally {\n      delete root._bokeh_onload_callbacks\n    }\n    console.debug(\"Bokeh: all callbacks have finished\");\n  }\n\n  function load_libs(css_urls, js_urls, callback) {\n    if (css_urls == null) css_urls = [];\n    if (js_urls == null) js_urls = [];\n\n    root._bokeh_onload_callbacks.push(callback);\n    if (root._bokeh_is_loading > 0) {\n      console.debug(\"Bokeh: BokehJS is being loaded, scheduling callback at\", now());\n      return null;\n    }\n    if (js_urls == null || js_urls.length === 0) {\n      run_callbacks();\n      return null;\n    }\n    console.debug(\"Bokeh: BokehJS not loaded, scheduling load and callback at\", now());\n    root._bokeh_is_loading = css_urls.length + js_urls.length;\n\n    function on_load() {\n      root._bokeh_is_loading--;\n      if (root._bokeh_is_loading === 0) {\n        console.debug(\"Bokeh: all BokehJS libraries/stylesheets loaded\");\n        run_callbacks()\n      }\n    }\n\n    function on_error() {\n      console.error(\"failed to load \" + url);\n    }\n\n    for (var i = 0; i < css_urls.length; i++) {\n      var url = css_urls[i];\n      const element = document.createElement(\"link\");\n      element.onload = on_load;\n      element.onerror = on_error;\n      element.rel = \"stylesheet\";\n      element.type = \"text/css\";\n      element.href = url;\n      console.debug(\"Bokeh: injecting link tag for BokehJS stylesheet: \", url);\n      document.body.appendChild(element);\n    }\n\n    for (var i = 0; i < js_urls.length; i++) {\n      var url = js_urls[i];\n      var element = document.createElement('script');\n      element.onload = on_load;\n      element.onerror = on_error;\n      element.async = false;\n      element.src = url;\n      console.debug(\"Bokeh: injecting script tag for BokehJS library: \", url);\n      document.head.appendChild(element);\n    }\n  };var element = document.getElementById(\"1001\");\n  if (element == null) {\n    console.error(\"Bokeh: ERROR: autoload.js configured with elementid '1001' but no matching script tag was found. \")\n    return false;\n  }\n\n  function inject_raw_css(css) {\n    const element = document.createElement(\"style\");\n    element.appendChild(document.createTextNode(css));\n    document.body.appendChild(element);\n  }\n\n  \n  var js_urls = [\"https://cdn.pydata.org/bokeh/release/bokeh-1.4.0.min.js\", \"https://cdn.pydata.org/bokeh/release/bokeh-widgets-1.4.0.min.js\", \"https://cdn.pydata.org/bokeh/release/bokeh-tables-1.4.0.min.js\", \"https://cdn.pydata.org/bokeh/release/bokeh-gl-1.4.0.min.js\"];\n  var css_urls = [];\n  \n\n  var inline_js = [\n    function(Bokeh) {\n      Bokeh.set_log_level(\"info\");\n    },\n    function(Bokeh) {\n    \n    \n    }\n  ];\n\n  function run_inline_js() {\n    \n    if (root.Bokeh !== undefined || force === true) {\n      \n    for (var i = 0; i < inline_js.length; i++) {\n      inline_js[i].call(root, root.Bokeh);\n    }\n    if (force === true) {\n        display_loaded();\n      }} else if (Date.now() < root._bokeh_timeout) {\n      setTimeout(run_inline_js, 100);\n    } else if (!root._bokeh_failed_load) {\n      console.log(\"Bokeh: BokehJS failed to load within specified timeout.\");\n      root._bokeh_failed_load = true;\n    } else if (force !== true) {\n      var cell = $(document.getElementById(\"1001\")).parents('.cell').data().cell;\n      cell.output_area.append_execute_result(NB_LOAD_WARNING)\n    }\n\n  }\n\n  if (root._bokeh_is_loading === 0) {\n    console.debug(\"Bokeh: BokehJS loaded, going straight to plotting\");\n    run_inline_js();\n  } else {\n    load_libs(css_urls, js_urls, function() {\n      console.debug(\"Bokeh: BokehJS plotting callback run at\", now());\n      run_inline_js();\n    });\n  }\n}(window));"
     },
     "metadata": {},
     "output_type": "display_data"
    }
   ],
   "source": [
    "from bokeh.plotting import figure, output_notebook, show\n",
    "from bokeh.models import HoverTool, ColumnDataSource\n",
    "from bokeh import palettes\n",
    "output_notebook()"
   ]
  },
  {
   "cell_type": "code",
   "execution_count": 67,
   "metadata": {
    "ExecuteTime": {
     "end_time": "2020-09-07T20:05:49.172783Z",
     "start_time": "2020-09-07T20:05:49.160778Z"
    }
   },
   "outputs": [],
   "source": [
    "def viz_front(fronts):\n",
    "    TOOLS = \"pan,wheel_zoom,box_zoom,reset\"\n",
    "    hover = HoverTool(\n",
    "            tooltips=[\n",
    "                (\"index\", \"$index\"),\n",
    "                (\"(x,y)\", \"($x, $y)\"),\n",
    "                (\"individual\", \"@ind\"),\n",
    "            ]\n",
    "        )\n",
    "    front_colors = []\n",
    "    p = figure(plot_width=700, plot_height=700, tools=[TOOLS,hover], title=\"NSGAii Test\")\n",
    "\n",
    "    for i,inds in enumerate(fronts):\n",
    "        par = [(ind, toolbox.evaluate(ind)) for ind in inds]\n",
    "        source = ColumnDataSource(\n",
    "                data=dict(\n",
    "                    x= [p[1][0] for p in par],\n",
    "                    y= [p[1][1] for p in par],\n",
    "                    ind= [p[0] for p in par]\n",
    "                )\n",
    "            )\n",
    "        p.circle('x', 'y', size=10, source=source, alpha=0.7, fill_color=palettes.YlGnBu9[i], legend='Front %s'%(i+1), line_color=\"#ffffff\")\n",
    "    show(p)"
   ]
  },
  {
   "cell_type": "code",
   "execution_count": 75,
   "metadata": {
    "ExecuteTime": {
     "end_time": "2020-09-07T20:12:00.934110Z",
     "start_time": "2020-09-07T20:12:00.416106Z"
    },
    "scrolled": false
   },
   "outputs": [
    {
     "name": "stderr",
     "output_type": "stream",
     "text": [
      "BokehDeprecationWarning: 'legend' keyword is deprecated, use explicit 'legend_label', 'legend_field', or 'legend_group' keywords instead\n"
     ]
    },
    {
     "data": {
      "text/html": [
       "\n",
       "\n",
       "\n",
       "\n",
       "\n",
       "\n",
       "  <div class=\"bk-root\" id=\"e70b33dc-e611-45b9-8d0f-d1ab18f29090\" data-root-id=\"1131\"></div>\n"
      ]
     },
     "metadata": {},
     "output_type": "display_data"
    },
    {
     "data": {
      "application/javascript": [
       "(function(root) {\n",
       "  function embed_document(root) {\n",
       "    \n",
       "  var docs_json = {\"cf0dde31-82e8-434a-be7d-1ac8b10c7232\":{\"roots\":{\"references\":[{\"attributes\":{\"below\":[{\"id\":\"1142\",\"type\":\"LinearAxis\"}],\"center\":[{\"id\":\"1146\",\"type\":\"Grid\"},{\"id\":\"1151\",\"type\":\"Grid\"},{\"id\":\"1174\",\"type\":\"Legend\"}],\"left\":[{\"id\":\"1147\",\"type\":\"LinearAxis\"}],\"plot_height\":700,\"plot_width\":700,\"renderers\":[{\"id\":\"1166\",\"type\":\"GlyphRenderer\"}],\"title\":{\"id\":\"1132\",\"type\":\"Title\"},\"toolbar\":{\"id\":\"1156\",\"type\":\"Toolbar\"},\"x_range\":{\"id\":\"1134\",\"type\":\"DataRange1d\"},\"x_scale\":{\"id\":\"1138\",\"type\":\"LinearScale\"},\"y_range\":{\"id\":\"1136\",\"type\":\"DataRange1d\"},\"y_scale\":{\"id\":\"1140\",\"type\":\"LinearScale\"}},\"id\":\"1131\",\"subtype\":\"Figure\",\"type\":\"Plot\"},{\"attributes\":{\"callback\":null},\"id\":\"1134\",\"type\":\"DataRange1d\"},{\"attributes\":{\"fill_alpha\":{\"value\":0.1},\"fill_color\":{\"value\":\"#1f77b4\"},\"line_alpha\":{\"value\":0.1},\"line_color\":{\"value\":\"#1f77b4\"},\"size\":{\"units\":\"screen\",\"value\":10},\"x\":{\"field\":\"x\"},\"y\":{\"field\":\"y\"}},\"id\":\"1165\",\"type\":\"Circle\"},{\"attributes\":{\"data_source\":{\"id\":\"1162\",\"type\":\"ColumnDataSource\"},\"glyph\":{\"id\":\"1164\",\"type\":\"Circle\"},\"hover_glyph\":null,\"muted_glyph\":null,\"nonselection_glyph\":{\"id\":\"1165\",\"type\":\"Circle\"},\"selection_glyph\":null,\"view\":{\"id\":\"1167\",\"type\":\"CDSView\"}},\"id\":\"1166\",\"type\":\"GlyphRenderer\"},{\"attributes\":{\"active_drag\":\"auto\",\"active_inspect\":\"auto\",\"active_multi\":null,\"active_scroll\":\"auto\",\"active_tap\":\"auto\",\"tools\":[{\"id\":\"1130\",\"type\":\"HoverTool\"},{\"id\":\"1152\",\"type\":\"PanTool\"},{\"id\":\"1153\",\"type\":\"WheelZoomTool\"},{\"id\":\"1154\",\"type\":\"BoxZoomTool\"},{\"id\":\"1155\",\"type\":\"ResetTool\"}]},\"id\":\"1156\",\"type\":\"Toolbar\"},{\"attributes\":{\"text\":\"NSGAii Test\"},\"id\":\"1132\",\"type\":\"Title\"},{\"attributes\":{\"callback\":null},\"id\":\"1136\",\"type\":\"DataRange1d\"},{\"attributes\":{},\"id\":\"1152\",\"type\":\"PanTool\"},{\"attributes\":{},\"id\":\"1140\",\"type\":\"LinearScale\"},{\"attributes\":{},\"id\":\"1170\",\"type\":\"BasicTickFormatter\"},{\"attributes\":{},\"id\":\"1153\",\"type\":\"WheelZoomTool\"},{\"attributes\":{\"formatter\":{\"id\":\"1172\",\"type\":\"BasicTickFormatter\"},\"ticker\":{\"id\":\"1143\",\"type\":\"BasicTicker\"}},\"id\":\"1142\",\"type\":\"LinearAxis\"},{\"attributes\":{},\"id\":\"1172\",\"type\":\"BasicTickFormatter\"},{\"attributes\":{\"overlay\":{\"id\":\"1173\",\"type\":\"BoxAnnotation\"}},\"id\":\"1154\",\"type\":\"BoxZoomTool\"},{\"attributes\":{\"bottom_units\":\"screen\",\"fill_alpha\":{\"value\":0.5},\"fill_color\":{\"value\":\"lightgrey\"},\"left_units\":\"screen\",\"level\":\"overlay\",\"line_alpha\":{\"value\":1.0},\"line_color\":{\"value\":\"black\"},\"line_dash\":[4,4],\"line_width\":{\"value\":2},\"render_mode\":\"css\",\"right_units\":\"screen\",\"top_units\":\"screen\"},\"id\":\"1173\",\"type\":\"BoxAnnotation\"},{\"attributes\":{},\"id\":\"1143\",\"type\":\"BasicTicker\"},{\"attributes\":{},\"id\":\"1155\",\"type\":\"ResetTool\"},{\"attributes\":{\"items\":[{\"id\":\"1175\",\"type\":\"LegendItem\"}]},\"id\":\"1174\",\"type\":\"Legend\"},{\"attributes\":{\"ticker\":{\"id\":\"1143\",\"type\":\"BasicTicker\"}},\"id\":\"1146\",\"type\":\"Grid\"},{\"attributes\":{\"callback\":null,\"data\":{\"ind\":[[8,14,12,4,2],[8,14,12,4,2],[8,14,12,4,3],[8,14,12,4,3],[2,4,3,12,14],[2,4,3,12,14],[26,25,2,4,3],[26,25,2,4,3],[26,25,2,4,14],[26,25,2,4,14],[26,25,3,12,14],[26,25,3,12,14],[26,25,3,8,14],[26,25,3,8,14],[13,7,0,25,26],[13,7,0,25,26],[26,25,3,13,7],[26,25,3,13,7],[26,25,3,14,13],[26,25,3,14,13],[26,25,7,13,14],[26,25,7,13,14],[73,26,25,13,14],[73,26,25,13,14],[73,26,25,13,14],[73,26,25,13,14],[73,26,25,13,14],[73,26,25,13,14],[73,26,25,13,14],[73,26,25,13,14],[73,26,25,13,14],[73,26,25,13,14],[73,26,25,13,14],[73,26,25,13,14],[73,26,25,13,14],[73,26,25,13,14],[73,26,25,13,14],[73,26,25,13,14],[73,26,25,13,14],[73,26,25,13,14],[73,26,25,13,14],[73,26,25,13,14],[73,26,25,13,14],[73,26,25,13,14],[73,26,25,13,14],[73,26,25,13,14],[73,26,25,13,14],[73,26,25,13,14],[73,26,25,13,14],[73,26,25,13,14],[73,26,25,13,14],[73,26,25,13,14],[73,26,25,13,14],[73,26,25,13,14],[73,26,25,13,14],[73,26,25,13,14],[73,26,25,13,14],[73,26,25,13,14],[73,26,25,13,14],[73,26,25,13,14],[73,26,25,13,14],[73,26,25,13,14],[73,26,25,13,14],[73,26,25,13,14],[73,26,25,13,14],[73,26,25,13,14],[73,26,25,13,14],[73,26,25,13,14],[73,26,25,13,14],[73,26,25,13,14],[73,26,25,13,14],[73,26,25,13,14],[73,26,25,13,14],[73,26,25,13,14],[73,26,25,13,14],[73,26,25,13,14],[73,26,25,13,14],[73,26,25,13,14],[73,26,25,13,14],[73,26,25,13,14],[73,26,25,13,14],[73,26,25,13,14],[73,26,25,13,14],[73,26,25,13,14],[73,26,25,13,14],[73,26,25,13,14],[73,26,25,13,14],[73,26,25,13,14],[73,26,25,13,14],[73,26,25,13,14],[73,26,25,13,14],[73,26,25,13,14],[73,26,25,13,14],[73,26,25,13,14],[73,26,25,13,14],[73,26,25,13,14],[73,26,25,13,14],[73,26,25,13,14],[73,26,25,13,14],[73,26,25,13,14]],\"x\":[2.169159904404988,2.169159904404988,2.248381024547824,2.248381024547824,2.306048074469609,2.306048074469609,2.4285796242879467,2.4285796242879467,3.0831740331998256,3.0831740331998256,3.253799699588175,3.253799699588175,3.395639551193373,3.395639551193373,3.7798600769597495,3.7798600769597495,4.553190894319417,4.553190894319417,5.001034716621495,5.001034716621495,5.477786922307644,5.477786922307644,8.725423290508745,8.725423290508745,8.725423290508745,8.725423290508745,8.725423290508745,8.725423290508745,8.725423290508745,8.725423290508745,8.725423290508745,8.725423290508745,8.725423290508745,8.725423290508745,8.725423290508745,8.725423290508745,8.725423290508745,8.725423290508745,8.725423290508745,8.725423290508745,8.725423290508745,8.725423290508745,8.725423290508745,8.725423290508745,8.725423290508745,8.725423290508745,8.725423290508745,8.725423290508745,8.725423290508745,8.725423290508745,8.725423290508745,8.725423290508745,8.725423290508745,8.725423290508745,8.725423290508745,8.725423290508745,8.725423290508745,8.725423290508745,8.725423290508745,8.725423290508745,8.725423290508745,8.725423290508745,8.725423290508745,8.725423290508745,8.725423290508745,8.725423290508745,8.725423290508745,8.725423290508745,8.725423290508745,8.725423290508745,8.725423290508745,8.725423290508745,8.725423290508745,8.725423290508745,8.725423290508745,8.725423290508745,8.725423290508745,8.725423290508745,8.725423290508745,8.725423290508745,8.725423290508745,8.725423290508745,8.725423290508745,8.725423290508745,8.725423290508745,8.725423290508745,8.725423290508745,8.725423290508745,8.725423290508745,8.725423290508745,8.725423290508745,8.725423290508745,8.725423290508745,8.725423290508745,8.725423290508745,8.725423290508745,8.725423290508745,8.725423290508745,8.725423290508745,8.725423290508745],\"y\":[255,255,287,287,288,288,344,344,356,356,427,427,438,438,472,472,479,479,481,481,491,491,492,492,492,492,492,492,492,492,492,492,492,492,492,492,492,492,492,492,492,492,492,492,492,492,492,492,492,492,492,492,492,492,492,492,492,492,492,492,492,492,492,492,492,492,492,492,492,492,492,492,492,492,492,492,492,492,492,492,492,492,492,492,492,492,492,492,492,492,492,492,492,492,492,492,492,492,492,492]},\"selected\":{\"id\":\"1190\",\"type\":\"Selection\"},\"selection_policy\":{\"id\":\"1191\",\"type\":\"UnionRenderers\"}},\"id\":\"1162\",\"type\":\"ColumnDataSource\"},{\"attributes\":{\"label\":{\"value\":\"Front 1\"},\"renderers\":[{\"id\":\"1166\",\"type\":\"GlyphRenderer\"}]},\"id\":\"1175\",\"type\":\"LegendItem\"},{\"attributes\":{\"formatter\":{\"id\":\"1170\",\"type\":\"BasicTickFormatter\"},\"ticker\":{\"id\":\"1148\",\"type\":\"BasicTicker\"}},\"id\":\"1147\",\"type\":\"LinearAxis\"},{\"attributes\":{},\"id\":\"1148\",\"type\":\"BasicTicker\"},{\"attributes\":{},\"id\":\"1190\",\"type\":\"Selection\"},{\"attributes\":{\"fill_alpha\":{\"value\":0.7},\"fill_color\":{\"value\":\"#081d58\"},\"line_alpha\":{\"value\":0.7},\"line_color\":{\"value\":\"#ffffff\"},\"size\":{\"units\":\"screen\",\"value\":10},\"x\":{\"field\":\"x\"},\"y\":{\"field\":\"y\"}},\"id\":\"1164\",\"type\":\"Circle\"},{\"attributes\":{},\"id\":\"1138\",\"type\":\"LinearScale\"},{\"attributes\":{},\"id\":\"1191\",\"type\":\"UnionRenderers\"},{\"attributes\":{\"source\":{\"id\":\"1162\",\"type\":\"ColumnDataSource\"}},\"id\":\"1167\",\"type\":\"CDSView\"},{\"attributes\":{\"dimension\":1,\"ticker\":{\"id\":\"1148\",\"type\":\"BasicTicker\"}},\"id\":\"1151\",\"type\":\"Grid\"},{\"attributes\":{\"callback\":null,\"tooltips\":[[\"index\",\"$index\"],[\"(x,y)\",\"($x, $y)\"],[\"individual\",\"@ind\"]]},\"id\":\"1130\",\"type\":\"HoverTool\"}],\"root_ids\":[\"1131\"]},\"title\":\"Bokeh Application\",\"version\":\"1.4.0\"}};\n",
       "  var render_items = [{\"docid\":\"cf0dde31-82e8-434a-be7d-1ac8b10c7232\",\"roots\":{\"1131\":\"e70b33dc-e611-45b9-8d0f-d1ab18f29090\"}}];\n",
       "  root.Bokeh.embed.embed_items_notebook(docs_json, render_items);\n",
       "\n",
       "  }\n",
       "  if (root.Bokeh !== undefined) {\n",
       "    embed_document(root);\n",
       "  } else {\n",
       "    var attempts = 0;\n",
       "    var timer = setInterval(function(root) {\n",
       "      if (root.Bokeh !== undefined) {\n",
       "        clearInterval(timer);\n",
       "        embed_document(root);\n",
       "      } else {\n",
       "        attempts++;\n",
       "        if (attempts > 100) {\n",
       "          clearInterval(timer);\n",
       "          console.log(\"Bokeh: ERROR: Unable to run BokehJS code because BokehJS library is missing\");\n",
       "        }\n",
       "      }\n",
       "    }, 10, root)\n",
       "  }\n",
       "})(window);"
      ],
      "application/vnd.bokehjs_exec.v0+json": ""
     },
     "metadata": {
      "application/vnd.bokehjs_exec.v0+json": {
       "id": "1131"
      }
     },
     "output_type": "display_data"
    }
   ],
   "source": [
    "viz_front(fronts)"
   ]
  },
  {
   "cell_type": "code",
   "execution_count": 69,
   "metadata": {
    "ExecuteTime": {
     "end_time": "2020-09-07T20:06:24.289755Z",
     "start_time": "2020-09-07T20:06:24.279744Z"
    }
   },
   "outputs": [
    {
     "data": {
      "text/plain": [
       "[8, 14, 12, 4, 2]"
      ]
     },
     "execution_count": 69,
     "metadata": {},
     "output_type": "execute_result"
    }
   ],
   "source": [
    "fronts[0][0] # One of the Obtimal Solution"
   ]
  },
  {
   "cell_type": "code",
   "execution_count": 71,
   "metadata": {
    "ExecuteTime": {
     "end_time": "2020-09-07T20:06:36.173615Z",
     "start_time": "2020-09-07T20:06:36.152629Z"
    }
   },
   "outputs": [
    {
     "data": {
      "text/html": [
       "<div>\n",
       "<style scoped>\n",
       "    .dataframe tbody tr th:only-of-type {\n",
       "        vertical-align: middle;\n",
       "    }\n",
       "\n",
       "    .dataframe tbody tr th {\n",
       "        vertical-align: top;\n",
       "    }\n",
       "\n",
       "    .dataframe thead th {\n",
       "        text-align: right;\n",
       "    }\n",
       "</style>\n",
       "<table border=\"1\" class=\"dataframe\">\n",
       "  <thead>\n",
       "    <tr style=\"text-align: right;\">\n",
       "      <th></th>\n",
       "      <th>street_ko</th>\n",
       "      <th>street_en</th>\n",
       "      <th>address</th>\n",
       "      <th>dong_ko</th>\n",
       "      <th>dong_en</th>\n",
       "      <th>lng</th>\n",
       "      <th>lat</th>\n",
       "      <th>score</th>\n",
       "    </tr>\n",
       "  </thead>\n",
       "  <tbody>\n",
       "    <tr>\n",
       "      <th>8</th>\n",
       "      <td>청계천헌책방거리</td>\n",
       "      <td>Cheonggye Stream secondhand bookshop street</td>\n",
       "      <td>서울시 중구 광희동 일대</td>\n",
       "      <td>광희동</td>\n",
       "      <td>Gwanghui-dong</td>\n",
       "      <td>127.008111</td>\n",
       "      <td>37.569502</td>\n",
       "      <td>54</td>\n",
       "    </tr>\n",
       "    <tr>\n",
       "      <th>14</th>\n",
       "      <td>대학로거리</td>\n",
       "      <td>Daehak-ro street</td>\n",
       "      <td>서울시 종로구 이화동 일대</td>\n",
       "      <td>이화동</td>\n",
       "      <td>Ihwa-dong</td>\n",
       "      <td>127.005411</td>\n",
       "      <td>37.577132</td>\n",
       "      <td>99</td>\n",
       "    </tr>\n",
       "    <tr>\n",
       "      <th>12</th>\n",
       "      <td>동대문생선구이골목</td>\n",
       "      <td>Baked fish Alley</td>\n",
       "      <td>서울시 종로구 종로5.6가동 일대</td>\n",
       "      <td>종로5.6가동</td>\n",
       "      <td>Jongno5.6ga-dong</td>\n",
       "      <td>127.000190</td>\n",
       "      <td>37.573690</td>\n",
       "      <td>43</td>\n",
       "    </tr>\n",
       "    <tr>\n",
       "      <th>4</th>\n",
       "      <td>초동길</td>\n",
       "      <td>Chodong-gil</td>\n",
       "      <td>서울시 중구 을지로동 일대</td>\n",
       "      <td>을지로동</td>\n",
       "      <td>Euljiro-dong</td>\n",
       "      <td>126.997646</td>\n",
       "      <td>37.566410</td>\n",
       "      <td>4</td>\n",
       "    </tr>\n",
       "    <tr>\n",
       "      <th>2</th>\n",
       "      <td>남산공원북측순환도로</td>\n",
       "      <td>The north side of Ring-Road</td>\n",
       "      <td>서울시 중구 필동 일대</td>\n",
       "      <td>필동</td>\n",
       "      <td>Gwanghui-dong</td>\n",
       "      <td>126.995925</td>\n",
       "      <td>37.561350</td>\n",
       "      <td>55</td>\n",
       "    </tr>\n",
       "  </tbody>\n",
       "</table>\n",
       "</div>"
      ],
      "text/plain": [
       "     street_ko                                    street_en  \\\n",
       "8     청계천헌책방거리  Cheonggye Stream secondhand bookshop street   \n",
       "14       대학로거리                             Daehak-ro street   \n",
       "12   동대문생선구이골목                             Baked fish Alley   \n",
       "4          초동길                                  Chodong-gil   \n",
       "2   남산공원북측순환도로                  The north side of Ring-Road   \n",
       "\n",
       "               address  dong_ko           dong_en         lng        lat  \\\n",
       "8        서울시 중구 광희동 일대      광희동     Gwanghui-dong  127.008111  37.569502   \n",
       "14      서울시 종로구 이화동 일대      이화동         Ihwa-dong  127.005411  37.577132   \n",
       "12  서울시 종로구 종로5.6가동 일대  종로5.6가동  Jongno5.6ga-dong  127.000190  37.573690   \n",
       "4       서울시 중구 을지로동 일대     을지로동      Euljiro-dong  126.997646  37.566410   \n",
       "2         서울시 중구 필동 일대       필동     Gwanghui-dong  126.995925  37.561350   \n",
       "\n",
       "    score  \n",
       "8      54  \n",
       "14     99  \n",
       "12     43  \n",
       "4       4  \n",
       "2      55  "
      ]
     },
     "execution_count": 71,
     "metadata": {},
     "output_type": "execute_result"
    }
   ],
   "source": [
    "df_spot.iloc[fronts[0][0]] # Information of that solution"
   ]
  },
  {
   "cell_type": "code",
   "execution_count": null,
   "metadata": {
    "collapsed": true
   },
   "outputs": [],
   "source": []
  },
  {
   "cell_type": "code",
   "execution_count": 72,
   "metadata": {
    "ExecuteTime": {
     "end_time": "2020-09-07T20:06:51.885406Z",
     "start_time": "2020-09-07T20:06:51.831402Z"
    },
    "scrolled": false
   },
   "outputs": [
    {
     "name": "stdout",
     "output_type": "stream",
     "text": [
      "(8.725423290508745, 492)\n"
     ]
    },
    {
     "name": "stderr",
     "output_type": "stream",
     "text": [
      "C:\\Users\\AW639XJ\\.conda\\envs\\ey-hindalco-env\\lib\\site-packages\\ipykernel_launcher.py:5: FutureWarning: Method `add_children` is deprecated. Please use `add_child` instead.\n",
      "  \"\"\"\n"
     ]
    },
    {
     "data": {
      "text/html": [
       "<div style=\"width:100%;\"><div style=\"position:relative;width:100%;height:0;padding-bottom:60%;\"><span style=\"color:#565656\">Make this Notebook Trusted to load map: File -> Trust Notebook</span><iframe src=\"about:blank\" style=\"position:absolute;width:100%;height:100%;left:0;top:0;border:none !important;\" data-html=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 onload=\"this.contentDocument.open();this.contentDocument.write(atob(this.getAttribute('data-html')));this.contentDocument.close();\" allowfullscreen webkitallowfullscreen mozallowfullscreen></iframe></div></div>"
      ],
      "text/plain": [
       "<folium.folium.Map at 0x19717e185f8>"
      ]
     },
     "execution_count": 72,
     "metadata": {},
     "output_type": "execute_result"
    }
   ],
   "source": [
    "print(eval_func(fronts[0][99])) # Higher score but Longer distance\n",
    "plot_tour(fronts[0][99])"
   ]
  },
  {
   "cell_type": "code",
   "execution_count": 73,
   "metadata": {
    "ExecuteTime": {
     "end_time": "2020-09-07T20:07:26.072702Z",
     "start_time": "2020-09-07T20:07:26.025661Z"
    }
   },
   "outputs": [
    {
     "name": "stdout",
     "output_type": "stream",
     "text": [
      "(2.169159904404988, 255)\n"
     ]
    },
    {
     "name": "stderr",
     "output_type": "stream",
     "text": [
      "C:\\Users\\AW639XJ\\.conda\\envs\\ey-hindalco-env\\lib\\site-packages\\ipykernel_launcher.py:5: FutureWarning: Method `add_children` is deprecated. Please use `add_child` instead.\n",
      "  \"\"\"\n"
     ]
    },
    {
     "data": {
      "text/html": [
       "<div style=\"width:100%;\"><div style=\"position:relative;width:100%;height:0;padding-bottom:60%;\"><span style=\"color:#565656\">Make this Notebook Trusted to load map: File -> Trust Notebook</span><iframe src=\"about:blank\" style=\"position:absolute;width:100%;height:100%;left:0;top:0;border:none !important;\" data-html=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 onload=\"this.contentDocument.open();this.contentDocument.write(atob(this.getAttribute('data-html')));this.contentDocument.close();\" allowfullscreen webkitallowfullscreen mozallowfullscreen></iframe></div></div>"
      ],
      "text/plain": [
       "<folium.folium.Map at 0x19717e2c828>"
      ]
     },
     "execution_count": 73,
     "metadata": {},
     "output_type": "execute_result"
    }
   ],
   "source": [
    "print(eval_func(fronts[0][0]))  # Shorter distance but Lower score\n",
    "plot_tour(fronts[0][0])"
   ]
  },
  {
   "cell_type": "code",
   "execution_count": null,
   "metadata": {},
   "outputs": [],
   "source": []
  },
  {
   "cell_type": "code",
   "execution_count": null,
   "metadata": {},
   "outputs": [],
   "source": []
  },
  {
   "cell_type": "code",
   "execution_count": null,
   "metadata": {
    "collapsed": true
   },
   "outputs": [],
   "source": []
  }
 ],
 "metadata": {
  "anaconda-cloud": {},
  "kernelspec": {
   "display_name": "Python 3",
   "language": "python",
   "name": "python3"
  },
  "language_info": {
   "codemirror_mode": {
    "name": "ipython",
    "version": 3
   },
   "file_extension": ".py",
   "mimetype": "text/x-python",
   "name": "python",
   "nbconvert_exporter": "python",
   "pygments_lexer": "ipython3",
   "version": "3.7.3"
  }
 },
 "nbformat": 4,
 "nbformat_minor": 1
}
