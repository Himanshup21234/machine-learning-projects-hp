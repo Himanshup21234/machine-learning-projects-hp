{
 "cells": [
  {
   "cell_type": "code",
   "execution_count": 23,
   "metadata": {
    "ExecuteTime": {
     "end_time": "2020-09-08T07:58:18.234868Z",
     "start_time": "2020-09-08T07:58:18.228866Z"
    }
   },
   "outputs": [],
   "source": [
    "import random\n",
    "import numpy\n",
    "from deap import algorithms\n",
    "from deap import base\n",
    "from deap import creator\n",
    "from deap import tools\n",
    "random.seed(64)"
   ]
  },
  {
   "cell_type": "code",
   "execution_count": 24,
   "metadata": {
    "ExecuteTime": {
     "end_time": "2020-09-08T07:58:19.948483Z",
     "start_time": "2020-09-08T07:58:19.944480Z"
    }
   },
   "outputs": [],
   "source": [
    "IND_INIT_SIZE = 5\n",
    "MAX_ITEM = 50\n",
    "MAX_WEIGHT = 50\n",
    "NBR_ITEMS = 20"
   ]
  },
  {
   "cell_type": "code",
   "execution_count": 28,
   "metadata": {
    "ExecuteTime": {
     "end_time": "2020-09-08T07:59:29.862201Z",
     "start_time": "2020-09-08T07:59:29.854196Z"
    }
   },
   "outputs": [],
   "source": [
    "items = {}\n",
    "# Create the item dictionary: item name is an integer, and value is \n",
    "# a (weight, value) 2-uple.\n",
    "for i in range(NBR_ITEMS):\n",
    "    items[i] = (random.randint(1, 10), random.uniform(0, 100))"
   ]
  },
  {
   "cell_type": "code",
   "execution_count": 29,
   "metadata": {
    "ExecuteTime": {
     "end_time": "2020-09-08T08:00:27.169799Z",
     "start_time": "2020-09-08T08:00:27.156807Z"
    }
   },
   "outputs": [
    {
     "name": "stderr",
     "output_type": "stream",
     "text": [
      "C:\\Users\\AW639XJ\\.conda\\envs\\ey-hindalco-env\\lib\\site-packages\\deap\\creator.py:141: RuntimeWarning: A class named 'Fitness' has already been created and it will be overwritten. Consider deleting previous creation of that class or rename it.\n",
      "  RuntimeWarning)\n",
      "C:\\Users\\AW639XJ\\.conda\\envs\\ey-hindalco-env\\lib\\site-packages\\deap\\creator.py:141: RuntimeWarning: A class named 'Individual' has already been created and it will be overwritten. Consider deleting previous creation of that class or rename it.\n",
      "  RuntimeWarning)\n"
     ]
    }
   ],
   "source": [
    "creator.create('Fitness',base.Fitness,weights=(-1.0,1.0))\n",
    "creator.create('Individual',set,fitness=creator.Fitness)\n",
    "toolbox = base.Toolbox()\n",
    "# Attribute generator\n",
    "toolbox.register(\"attr_item\", random.randrange, NBR_ITEMS)\n",
    "# Structure initializers\n",
    "toolbox.register(\"individual\", tools.initRepeat, creator.Individual, toolbox.attr_item, IND_INIT_SIZE)\n",
    "toolbox.register(\"population\", tools.initRepeat, list, toolbox.individual)"
   ]
  },
  {
   "cell_type": "code",
   "execution_count": 30,
   "metadata": {
    "ExecuteTime": {
     "end_time": "2020-09-08T08:01:00.641222Z",
     "start_time": "2020-09-08T08:01:00.632187Z"
    }
   },
   "outputs": [],
   "source": [
    "def evalKnapsack(individual):\n",
    "    weight = 0.0\n",
    "    value = 0.0\n",
    "    for item in individual:\n",
    "        weight += items[item][0]\n",
    "        value += items[item][1]\n",
    "    if len(individual) > MAX_ITEM or weight > MAX_WEIGHT:\n",
    "        return 10000, 0             # Ensure overweighted bags are dominated\n",
    "    return weight, value"
   ]
  },
  {
   "cell_type": "code",
   "execution_count": 31,
   "metadata": {
    "ExecuteTime": {
     "end_time": "2020-09-08T08:03:23.641652Z",
     "start_time": "2020-09-08T08:03:23.633620Z"
    }
   },
   "outputs": [],
   "source": [
    "def cxSet(ind1, ind2):\n",
    "    \"\"\"Apply a crossover operation on input sets. The first child is the\n",
    "    intersection of the two sets, the second child is the difference of the\n",
    "    two sets.\n",
    "    \"\"\"\n",
    "    temp = set(ind1)                # Used in order to keep type\n",
    "    ind1 &= ind2                    # Intersection (inplace)\n",
    "    ind2 ^= temp                    # Symmetric Difference (inplace)\n",
    "    return ind1, ind2"
   ]
  },
  {
   "cell_type": "code",
   "execution_count": 32,
   "metadata": {
    "ExecuteTime": {
     "end_time": "2020-09-08T08:04:49.796709Z",
     "start_time": "2020-09-08T08:04:49.789711Z"
    }
   },
   "outputs": [],
   "source": [
    "def mutSet(individual):\n",
    "    \"\"\"Mutation that pops or add an element.\"\"\"\n",
    "    if random.random() < 0.5:\n",
    "        if len(individual) > 0:     # We cannot pop from an empty set\n",
    "            individual.remove(random.choice(sorted(tuple(individual))))\n",
    "    else:\n",
    "        individual.add(random.randrange(NBR_ITEMS))\n",
    "    return individual,"
   ]
  },
  {
   "cell_type": "code",
   "execution_count": 33,
   "metadata": {
    "ExecuteTime": {
     "end_time": "2020-09-08T08:05:39.035901Z",
     "start_time": "2020-09-08T08:05:39.029900Z"
    }
   },
   "outputs": [],
   "source": [
    "toolbox.register(\"evaluate\", evalKnapsack)\n",
    "toolbox.register(\"mate\", cxSet)\n",
    "toolbox.register(\"mutate\", mutSet)\n",
    "toolbox.register(\"select\", tools.selNSGA2)"
   ]
  },
  {
   "cell_type": "code",
   "execution_count": 34,
   "metadata": {
    "ExecuteTime": {
     "end_time": "2020-09-08T08:07:10.984123Z",
     "start_time": "2020-09-08T08:07:10.972131Z"
    }
   },
   "outputs": [],
   "source": [
    "def main():\n",
    "    random.seed(64)\n",
    "    NGEN = 50\n",
    "    MU = 50\n",
    "    LAMBDA = 100\n",
    "    CXPB = 0.7\n",
    "    MUTPB = 0.2\n",
    "    pop = toolbox.population(n=MU)\n",
    "    hof = tools.ParetoFront()\n",
    "    stats = tools.Statistics(lambda ind: ind.fitness.values)\n",
    "    stats.register(\"avg\", numpy.mean, axis=0)\n",
    "    stats.register(\"std\", numpy.std, axis=0)\n",
    "    stats.register(\"min\", numpy.min, axis=0)\n",
    "    stats.register(\"max\", numpy.max, axis=0)\n",
    "\n",
    "    algorithms.eaMuPlusLambda(pop, toolbox, MU, LAMBDA, CXPB, MUTPB, NGEN, stats,\n",
    "                              halloffame=hof)\n",
    "    \n",
    "    return pop, stats, hof"
   ]
  },
  {
   "cell_type": "code",
   "execution_count": 35,
   "metadata": {
    "ExecuteTime": {
     "end_time": "2020-09-08T08:07:26.282031Z",
     "start_time": "2020-09-08T08:07:25.684039Z"
    }
   },
   "outputs": [
    {
     "name": "stdout",
     "output_type": "stream",
     "text": [
      "gen\tnevals\tavg                        \tstd                      \tmin                        \tmax                        \n",
      "0  \t50    \t[ 28.48       241.55944152]\t[ 6.78893217 58.23449577]\t[ 10.         109.69179614]\t[ 41.         377.87971041]\n",
      "1  \t87    \t[ 15.08       170.65437179]\t[ 16.32279388 163.94781653]\t[0. 0.]                    \t[ 48.         443.60115511]\n",
      "2  \t91    \t[ 8.06      99.1848964]    \t[ 14.24838236 161.59868545]\t[0. 0.]                    \t[ 42.         443.60115511]\n",
      "3  \t90    \t[ 4.18       66.30838345]  \t[  9.86243378 132.13037076]\t[0. 0.]                    \t[ 42.         443.60115511]\n",
      "4  \t92    \t[ 3.84       62.63986028]  \t[  8.83031143 128.01301331]\t[0. 0.]                    \t[ 42.         443.60115511]\n",
      "5  \t87    \t[ 5.24       89.81112688]  \t[  9.72534832 153.55612269]\t[0. 0.]                    \t[ 33.         459.73815613]\n",
      "6  \t82    \t[  7.04       126.80913652]\t[ 10.4076126  167.56009711]\t[0. 0.]                    \t[ 33.         459.73815613]\n",
      "7  \t90    \t[  7.32       128.97309346]\t[ 11.23288031 179.26130247]\t[0. 0.]                    \t[ 33.         459.73815613]\n",
      "8  \t87    \t[  6.24       107.91906854]\t[ 10.96459758 168.45305281]\t[0. 0.]                    \t[ 39.         479.69605884]\n",
      "9  \t89    \t[  9.76       162.93537496]\t[ 13.01930874 186.88767948]\t[0. 0.]                    \t[ 45.         521.45716883]\n",
      "10 \t91    \t[  7.86       130.52931587]\t[ 13.20001515 185.5393546 ]\t[0. 0.]                    \t[ 45.         521.45716883]\n",
      "11 \t94    \t[  8.12       165.33705261]\t[ 12.13365567 182.1450425 ]\t[0. 0.]                    \t[ 46.       578.560562]    \n",
      "12 \t90    \t[ 10.8        240.54697072]\t[ 12.25234671 148.21655477]\t[0. 0.]                    \t[ 46.       578.560562]    \n",
      "13 \t91    \t[  9.54       215.21220894]\t[ 12.10489157 160.03217485]\t[0. 0.]                    \t[ 46.       578.560562]    \n",
      "14 \t87    \t[  9.66       195.90396793]\t[ 13.25384473 189.78177291]\t[0. 0.]                    \t[ 46.       578.560562]    \n",
      "15 \t86    \t[ 10.72       205.89199611]\t[ 13.57798218 204.50041435]\t[0. 0.]                    \t[ 46.       578.560562]    \n",
      "16 \t89    \t[ 12.18       260.85586902]\t[ 12.70856404 170.80837003]\t[0. 0.]                    \t[ 46.       578.560562]    \n",
      "17 \t93    \t[ 10.86       203.36634283]\t[ 14.29686679 213.00027684]\t[0. 0.]                    \t[ 48.         628.68214753]\n",
      "18 \t87    \t[ 12.86       283.45073985]\t[ 13.28760325 171.65639128]\t[0. 0.]                    \t[ 48.         628.68214753]\n",
      "19 \t89    \t[  8.6        167.50918008]\t[ 14.41804425 220.40341412]\t[0. 0.]                    \t[ 48.         628.68214753]\n",
      "20 \t86    \t[ 11.5       217.0405515]  \t[ 16.23607095 231.3360614 ]\t[0. 0.]                    \t[ 48.         628.68214753]\n",
      "21 \t89    \t[  6.02       135.80539822]\t[ 12.29063058 200.48498014]\t[0. 0.]                    \t[ 48.         628.68214753]\n",
      "22 \t91    \t[  8.02       166.12404554]\t[ 14.0691009  225.04456003]\t[0. 0.]                    \t[ 48.         628.68214753]\n",
      "23 \t89    \t[ 10.24       216.45745757]\t[ 14.99274491 238.14629651]\t[0. 0.]                    \t[ 48.         628.68214753]\n",
      "24 \t86    \t[ 12.76       249.87227514]\t[ 16.46154306 250.04569113]\t[0. 0.]                    \t[ 48.         628.68214753]\n",
      "25 \t87    \t[ 15.18       313.66169192]\t[ 15.90055345 235.92409446]\t[0. 0.]                    \t[ 48.         628.68214753]\n",
      "26 \t90    \t[  7.86      202.0517659]  \t[ 10.66585205 228.39436625]\t[0. 0.]                    \t[ 37.         636.71706065]\n",
      "27 \t86    \t[  9.94       251.91806204]\t[ 11.11829124 234.29587482]\t[0. 0.]                    \t[ 37.         636.71706065]\n",
      "28 \t91    \t[  8.2       220.7747199]  \t[ 10.3033975  228.14325444]\t[0. 0.]                    \t[ 37.         636.71706065]\n",
      "29 \t91    \t[  9.04       238.18818093]\t[ 11.05071943 234.36469287]\t[0. 0.]                    \t[ 37.         636.71706065]\n",
      "30 \t93    \t[  8.         209.19699677]\t[ 10.82219941 235.07052917]\t[0. 0.]                    \t[ 37.         636.71706065]\n",
      "31 \t92    \t[ 11.18      280.5842242]  \t[ 12.31046709 245.26952992]\t[0. 0.]                    \t[ 37.         636.71706065]\n",
      "32 \t79    \t[ 18.06       429.29854687]\t[ 12.38775202 206.89686003]\t[0. 0.]                    \t[ 46.         707.34482753]\n",
      "33 \t91    \t[ 12.14       312.51602607]\t[ 12.17211567 244.34124294]\t[0. 0.]                    \t[ 46.         707.34482753]\n",
      "34 \t87    \t[ 14.66       369.84523276]\t[ 12.35412482 236.76551872]\t[0. 0.]                    \t[ 46.         707.34482753]\n",
      "35 \t95    \t[ 16.54       402.17676573]\t[ 12.84867308 236.21811166]\t[0. 0.]                    \t[ 46.         707.34482753]\n",
      "36 \t90    \t[ 16.16       396.51187945]\t[ 12.85668698 230.40217338]\t[0. 0.]                    \t[ 46.         707.34482753]\n",
      "37 \t87    \t[ 18.82       459.70393917]\t[ 11.8956967 190.7203738]  \t[0. 0.]                    \t[ 46.         707.34482753]\n",
      "38 \t89    \t[ 19.46       468.23508804]\t[ 12.14448023 195.36419997]\t[0. 0.]                    \t[ 43.         731.90547521]\n",
      "39 \t91    \t[ 21.28       484.43167393]\t[ 13.45071002 205.89064237]\t[0. 0.]                    \t[ 48.        756.0505436]  \n",
      "40 \t93    \t[ 19.12       458.49702941]\t[ 13.0071365  209.81851471]\t[0. 0.]                    \t[ 48.        756.0505436]  \n",
      "41 \t89    \t[ 16.2        392.40214104]\t[ 13.82606235 244.53808274]\t[0. 0.]                    \t[ 48.        756.0505436]  \n",
      "42 \t91    \t[ 19.02       461.29115449]\t[ 12.73497546 197.73669127]\t[0. 0.]                    \t[ 48.        756.0505436]  \n",
      "43 \t92    \t[ 16.24       405.31014487]\t[ 12.68788398 226.52351815]\t[0. 0.]                    \t[ 46.        760.9773014]  \n",
      "44 \t89    \t[ 19.52       462.15410087]\t[ 13.31200962 211.92808575]\t[0. 0.]                    \t[ 46.        760.9773014]  \n",
      "45 \t88    \t[ 19.66       448.13217184]\t[ 14.66234633 238.68143783]\t[0. 0.]                    \t[ 46.        760.9773014]  \n",
      "46 \t89    \t[ 19.04       461.84880593]\t[ 12.67747609 199.71167628]\t[0. 0.]                    \t[ 44.         790.66350319]\n",
      "47 \t87    \t[ 20.24       474.01264605]\t[ 13.358982   204.23948457]\t[0. 0.]                    \t[ 44.         790.66350319]\n",
      "48 \t91    \t[ 19.06       457.66803476]\t[ 12.85832026 203.9087731 ]\t[0. 0.]                    \t[ 44.         790.66350319]\n",
      "49 \t90    \t[ 19.78       470.52992443]\t[ 13.44959479 195.64769862]\t[0. 0.]                    \t[ 44.         790.66350319]\n",
      "50 \t89    \t[ 18.64       448.04245538]\t[ 13.31729702 222.27969736]\t[0. 0.]                    \t[ 44.         790.66350319]\n"
     ]
    }
   ],
   "source": [
    "if __name__ == \"__main__\":\n",
    "    main()"
   ]
  }
 ],
 "metadata": {
  "kernelspec": {
   "display_name": "Python 3",
   "language": "python",
   "name": "python3"
  },
  "language_info": {
   "codemirror_mode": {
    "name": "ipython",
    "version": 3
   },
   "file_extension": ".py",
   "mimetype": "text/x-python",
   "name": "python",
   "nbconvert_exporter": "python",
   "pygments_lexer": "ipython3",
   "version": "3.7.3"
  }
 },
 "nbformat": 4,
 "nbformat_minor": 4
}
